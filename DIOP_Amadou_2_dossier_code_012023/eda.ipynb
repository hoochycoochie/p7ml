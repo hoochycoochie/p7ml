{
 "cells": [
  {
   "cell_type": "code",
   "execution_count": 1,
   "metadata": {},
   "outputs": [],
   "source": [
    "import numpy as np\n",
    "import pandas as pd\n",
    "from functions import utils,scoring\n",
    "\n",
    "from functions import functions as utils2\n",
    "from functions import classification_utils\n",
    "\n",
    "import plotly.express as px\n",
    "from IPython.display import display, HTML\n",
    "from sklearn.preprocessing import OneHotEncoder, StandardScaler\n",
    "from sklearn.decomposition import PCA\n",
    "#display(HTML(\"<style>.container { width:100% !important; }</style>\"))\n",
    "pd.set_option('display.max_colwidth', None)"
   ]
  },
  {
   "cell_type": "code",
   "execution_count": 182,
   "metadata": {},
   "outputs": [
    {
     "name": "stdout",
     "output_type": "stream",
     "text": [
      "Memory usage of dataframe is 286.23 MB\n",
      "Memory usage after optimization is: 92.38 MB\n",
      "Decreased by 67.7%\n",
      "Memory usage of dataframe is 45.00 MB\n",
      "Memory usage after optimization is: 14.60 MB\n",
      "Decreased by 67.6%\n",
      "Memory usage of dataframe is 222.62 MB\n",
      "Memory usage after optimization is: 112.95 MB\n",
      "Decreased by 49.3%\n",
      "Memory usage of dataframe is 624.85 MB\n",
      "Memory usage after optimization is: 338.46 MB\n",
      "Decreased by 45.8%\n",
      "Memory usage of dataframe is 610.43 MB\n",
      "Memory usage after optimization is: 238.45 MB\n",
      "Decreased by 60.9%\n",
      "Memory usage of dataframe is 673.88 MB\n",
      "Memory usage after optimization is: 289.33 MB\n",
      "Decreased by 57.1%\n",
      "Memory usage of dataframe is 471.48 MB\n",
      "Memory usage after optimization is: 309.01 MB\n",
      "Decreased by 34.5%\n",
      "Memory usage of dataframe is 830.41 MB\n",
      "Memory usage after optimization is: 311.40 MB\n",
      "Decreased by 62.5%\n",
      "Memory usage of dataframe is 0.01 MB\n",
      "Memory usage after optimization is: 0.01 MB\n",
      "Decreased by 14.8%\n"
     ]
    }
   ],
   "source": [
    "\n",
    "df_train =  utils2.reduce_memory_usage(pd.read_csv('data/application_train.csv'))\n",
    "#df_train.to_csv('data/application_train.csv',index=False)\n",
    "\n",
    "df_test =utils2.reduce_memory_usage( pd.read_csv('data/application_test.csv'))\n",
    "#df_test.to_csv('data/application_test.csv',index=False)\n",
    "\n",
    "df_bureau =utils2.reduce_memory_usage( pd.read_csv('data/bureau.csv'))\n",
    "#df_bureau.to_csv('data/bureau.csv',index=False)\n",
    "\n",
    "df_bureau_balance = utils2.reduce_memory_usage(pd.read_csv('data/bureau_balance.csv'))\n",
    "#df_bureau_balance.to_csv('data/bureau_balance.csv',index=False)\n",
    "\n",
    "df_pos_cash_balance = utils2.reduce_memory_usage(pd.read_csv('data/POS_CASH_balance.csv'))\n",
    "#df_pos_cash_balance.to_csv('data/POS_CASH_balance.csv',index=False)\n",
    "\n",
    "df_credit_card_balance=utils2.reduce_memory_usage(pd.read_csv('data/credit_card_balance.csv'))\n",
    "#df_credit_card_balance.to_csv('data/credit_card_balance.csv',index=False)\n",
    "\n",
    "df_previous_application = utils2.reduce_memory_usage(pd.read_csv('data/previous_application.csv'))\n",
    "#df_previous_application.to_csv('data/previous_application.csv',index=False)\n",
    "\n",
    "df_installments_payments = utils2.reduce_memory_usage(pd.read_csv('data/installments_payments.csv'))\n",
    "#df_installments_payments.to_csv('data/installments_payments.csv',index=False)\n",
    "\n",
    "doc=utils2.reduce_memory_usage(pd.read_csv('data/HomeCredit_columns_description.csv',encoding='unicode_escape'))\n",
    "#doc.to_csv('data/HomeCredit_columns_description.csv',index=False)\n",
    "def find_doc(cols):\n",
    "    return(doc[doc['Row'].isin(cols)])\n"
   ]
  },
  {
   "cell_type": "markdown",
   "metadata": {},
   "source": [
    "# Partie 1: Analyse exploiratoire des données"
   ]
  },
  {
   "cell_type": "code",
   "execution_count": null,
   "metadata": {},
   "outputs": [],
   "source": []
  },
  {
   "cell_type": "code",
   "execution_count": 183,
   "metadata": {},
   "outputs": [],
   "source": [
    "\n",
    "df_train = pd.read_csv('data/train_cleaned_aggregated.csv')\n",
    "df_test = pd.read_csv('data/test_cleaned_aggregated.csv')\n"
   ]
  },
  {
   "cell_type": "code",
   "execution_count": 184,
   "metadata": {},
   "outputs": [
    {
     "data": {
      "text/plain": [
       "\"\\n#take too much time to finish\\nparams={\\n 'df_train':df_train,\\n 'df_test':df_test ,\\n 'df_bureau':df_bureau ,\\n 'df_bureau_balance':df_bureau_balance ,\\n 'df_pos_cash_balance':df_pos_cash_balance ,\\n 'df_credit_card_balance':df_credit_card_balance,\\n 'df_previous_application':df_previous_application , \\n 'df_installments_payments':df_installments_payments \\n    }\\nmain_df,df_train,df_test=scoring.clean_aggreagte(params)\\nmain_df.to_csv('data/main_df.csv',index=False)\\n\\ndf_train,df_test=scoring.clean_aggreagte(params)\\ndf_train.to_csv('data/train_cleaned_aggregated.csv',index=False)\\ndf_test.to_csv('data/test_cleaned_aggregated.csv',index=False)\\n\""
      ]
     },
     "execution_count": 184,
     "metadata": {},
     "output_type": "execute_result"
    }
   ],
   "source": [
    "\"\"\"\n",
    "#take too much time to finish\n",
    "params={\n",
    " 'df_train':df_train,\n",
    " 'df_test':df_test ,\n",
    " 'df_bureau':df_bureau ,\n",
    " 'df_bureau_balance':df_bureau_balance ,\n",
    " 'df_pos_cash_balance':df_pos_cash_balance ,\n",
    " 'df_credit_card_balance':df_credit_card_balance,\n",
    " 'df_previous_application':df_previous_application , \n",
    " 'df_installments_payments':df_installments_payments \n",
    "    }\n",
    "main_df,df_train,df_test=scoring.clean_aggreagte(params)\n",
    "main_df.to_csv('data/main_df.csv',index=False)\n",
    "\n",
    "df_train,df_test=scoring.clean_aggreagte(params)\n",
    "df_train.to_csv('data/train_cleaned_aggregated.csv',index=False)\n",
    "df_test.to_csv('data/test_cleaned_aggregated.csv',index=False)\n",
    "\"\"\""
   ]
  },
  {
   "cell_type": "code",
   "execution_count": 185,
   "metadata": {},
   "outputs": [
    {
     "data": {
      "text/plain": [
       "\"\\ndf_train=pd.read_csv('data/main_df.csv')\\ndf_train=main_df[~pd.isna(main_df['TARGET'])]\\ndf_test=main_df[pd.isna(main_df['TARGET'])]\\n\""
      ]
     },
     "execution_count": 185,
     "metadata": {},
     "output_type": "execute_result"
    }
   ],
   "source": [
    "\"\"\"\n",
    "df_train=pd.read_csv('data/main_df.csv')\n",
    "df_train=main_df[~pd.isna(main_df['TARGET'])]\n",
    "df_test=main_df[pd.isna(main_df['TARGET'])]\n",
    "\"\"\""
   ]
  },
  {
   "cell_type": "code",
   "execution_count": 186,
   "metadata": {},
   "outputs": [
    {
     "data": {
      "text/plain": [
       "(307511, 76)"
      ]
     },
     "execution_count": 186,
     "metadata": {},
     "output_type": "execute_result"
    }
   ],
   "source": [
    "df_train.shape"
   ]
  },
  {
   "cell_type": "code",
   "execution_count": 187,
   "metadata": {},
   "outputs": [
    {
     "name": "stdout",
     "output_type": "stream",
     "text": [
      "<class 'pandas.core.frame.DataFrame'>\n",
      "RangeIndex: 307511 entries, 0 to 307510\n",
      "Data columns (total 76 columns):\n",
      " #   Column                                                     Non-Null Count   Dtype  \n",
      "---  ------                                                     --------------   -----  \n",
      " 0   SK_ID_CURR                                                 307511 non-null  int64  \n",
      " 1   TARGET                                                     307511 non-null  float64\n",
      " 2   NAME_CONTRACT_TYPE                                         307511 non-null  object \n",
      " 3   CODE_GENDER                                                307511 non-null  object \n",
      " 4   FLAG_OWN_CAR                                               307511 non-null  object \n",
      " 5   FLAG_OWN_REALTY                                            307511 non-null  object \n",
      " 6   CNT_CHILDREN                                               307511 non-null  int64  \n",
      " 7   AMT_INCOME_TOTAL                                           307511 non-null  float64\n",
      " 8   AMT_CREDIT                                                 307511 non-null  float64\n",
      " 9   AMT_ANNUITY                                                307511 non-null  float64\n",
      " 10  AMT_GOODS_PRICE                                            307511 non-null  float64\n",
      " 11  NAME_INCOME_TYPE                                           307511 non-null  object \n",
      " 12  NAME_EDUCATION_TYPE                                        307511 non-null  object \n",
      " 13  NAME_FAMILY_STATUS                                         307511 non-null  object \n",
      " 14  NAME_HOUSING_TYPE                                          307511 non-null  object \n",
      " 15  CNT_FAM_MEMBERS                                            307511 non-null  float64\n",
      " 16  ORGANIZATION_TYPE                                          307511 non-null  object \n",
      " 17  EXT_SOURCE_2                                               306851 non-null  float64\n",
      " 18  EXT_SOURCE_3                                               246546 non-null  float64\n",
      " 19  AGE                                                        307511 non-null  float64\n",
      " 20  PRO_SENIORITY                                              307511 non-null  float64\n",
      " 21  ACCOUNT_SENIORITY                                          307511 non-null  float64\n",
      " 22  ANNUITY_AMT_CREDIT_PERCENT                                 307511 non-null  float64\n",
      " 23  ANNUITY_INCOME_PERCENT                                     307511 non-null  float64\n",
      " 24  CREDIT_TERM                                                307511 non-null  float64\n",
      " 25  AGE_LOAN_FINISH                                            307511 non-null  float64\n",
      " 26  GOODS_LOAN_PERCENT                                         307511 non-null  float64\n",
      " 27  INCOME_AFTER_ANNUITY                                       307511 non-null  float64\n",
      " 28  NET_INCOME_PER_FAMILY_HEAD_AFTER_ANNUITY                   307511 non-null  float64\n",
      " 29  COUNT_PAST_LOANS                                           307511 non-null  float64\n",
      " 30  COUNT_PAST_HOME_LOANS_x                                    307511 non-null  float64\n",
      " 31  COUNT_POS_SALE                                             307511 non-null  float64\n",
      " 32  COUNT_CREDIT_SALE                                          307511 non-null  float64\n",
      " 33  COUNT_PAST_INSTALLMENT                                     307511 non-null  float64\n",
      " 34  COUNT_PAST_HOME_LOANS_y                                    291057 non-null  float64\n",
      " 35  bureau_DAYS_CREDIT_mean                                    263491 non-null  float64\n",
      " 36  bureau_CREDIT_DAY_OVERDUE_mean                             263491 non-null  float64\n",
      " 37  bureau_DAYS_CREDIT_ENDDATE_mean                            261242 non-null  float64\n",
      " 38  bureau_CNT_CREDIT_PROLONG_mean                             263491 non-null  float64\n",
      " 39  bureau_AMT_CREDIT_SUM_mean                                 263490 non-null  float64\n",
      " 40  bureau_AMT_CREDIT_SUM_DEBT_mean                            256131 non-null  float64\n",
      " 41  bureau_AMT_CREDIT_SUM_OVERDUE_mean                         263491 non-null  float64\n",
      " 42  bureau_DAYS_CREDIT_UPDATE_mean                             263491 non-null  float64\n",
      " 43  frequent-bureau-CREDIT_ACTIVE                              263491 non-null  object \n",
      " 44  frequent-bureau-CREDIT_TYPE                                263491 non-null  object \n",
      " 45  previous_application_AMT_ANNUITY_mean                      290640 non-null  float64\n",
      " 46  previous_application_AMT_APPLICATION_mean                  291057 non-null  float64\n",
      " 47  previous_application_AMT_CREDIT_mean                       291057 non-null  float64\n",
      " 48  previous_application_AMT_GOODS_PRICE_mean                  290082 non-null  float64\n",
      " 49  previous_application_NFLAG_LAST_APPL_IN_DAY_mean           291057 non-null  float64\n",
      " 50  previous_application_SELLERPLACE_AREA_mean                 291057 non-null  float64\n",
      " 51  previous_application_CNT_PAYMENT_mean                      290642 non-null  float64\n",
      " 52  frequent-previous_application-NAME_CONTRACT_TYPE           291057 non-null  object \n",
      " 53  frequent-previous_application-FLAG_LAST_APPL_PER_CONTRACT  291057 non-null  object \n",
      " 54  frequent-previous_application-NAME_CASH_LOAN_PURPOSE       291057 non-null  object \n",
      " 55  frequent-previous_application-NAME_CONTRACT_STATUS         291057 non-null  object \n",
      " 56  frequent-previous_application-NAME_PAYMENT_TYPE            291057 non-null  object \n",
      " 57  frequent-previous_application-CODE_REJECT_REASON           291057 non-null  object \n",
      " 58  frequent-previous_application-NAME_CLIENT_TYPE             291057 non-null  object \n",
      " 59  frequent-previous_application-NAME_GOODS_CATEGORY          291057 non-null  object \n",
      " 60  frequent-previous_application-NAME_PORTFOLIO               291057 non-null  object \n",
      " 61  frequent-previous_application-NAME_PRODUCT_TYPE            291057 non-null  object \n",
      " 62  frequent-previous_application-CHANNEL_TYPE                 291057 non-null  object \n",
      " 63  frequent-previous_application-NAME_SELLER_INDUSTRY         291057 non-null  object \n",
      " 64  frequent-previous_application-NAME_YIELD_GROUP             291057 non-null  object \n",
      " 65  frequent-previous_application-PRODUCT_COMBINATION          291057 non-null  object \n",
      " 66  pos_cash_balance_MONTHS_BALANCE_mean_x                     289444 non-null  float64\n",
      " 67  pos_cash_balance_CNT_INSTALMENT_mean                       289420 non-null  float64\n",
      " 68  pos_cash_balance_CNT_INSTALMENT_FUTURE_mean                289420 non-null  float64\n",
      " 69  pos_cash_balance_SK_DPD_mean_x                             289444 non-null  float64\n",
      " 70  pos_cash_balance_SK_DPD_DEF_mean_x                         289444 non-null  float64\n",
      " 71  frequent-pos_cash_balance-NAME_CONTRACT_STATUS             289444 non-null  object \n",
      " 72  installments_payments_DAYS_INSTALMENT_mean                 291643 non-null  float64\n",
      " 73  installments_payments_DAYS_ENTRY_PAYMENT_mean              291635 non-null  float64\n",
      " 74  installments_payments_AMT_INSTALMENT_mean                  291643 non-null  float64\n",
      " 75  installments_payments_AMT_PAYMENT_mean                     291635 non-null  float64\n",
      "dtypes: float64(48), int64(2), object(26)\n",
      "memory usage: 178.3+ MB\n"
     ]
    }
   ],
   "source": [
    "df_train.info()"
   ]
  },
  {
   "cell_type": "code",
   "execution_count": 188,
   "metadata": {},
   "outputs": [
    {
     "data": {
      "text/plain": [
       "83350"
      ]
     },
     "execution_count": 188,
     "metadata": {},
     "output_type": "execute_result"
    }
   ],
   "source": [
    "len(df_train[df_train.isna().any(axis=1)])"
   ]
  },
  {
   "cell_type": "markdown",
   "metadata": {},
   "source": [
    "* Aucun doublon de clients dans l'échantillon d'entrainement selon l'identifiant unique SK_ID_CURR"
   ]
  },
  {
   "cell_type": "code",
   "execution_count": 189,
   "metadata": {},
   "outputs": [
    {
     "data": {
      "text/plain": [
       "0"
      ]
     },
     "execution_count": 189,
     "metadata": {},
     "output_type": "execute_result"
    }
   ],
   "source": [
    "\n",
    "len(df_train.loc[df_train.duplicated(subset='SK_ID_CURR',keep='first')]) ## 0 aucun doublons"
   ]
  },
  {
   "cell_type": "markdown",
   "metadata": {},
   "source": [
    "* Aucun doublon de clients dans l'échantillon de test selon l'identifiant unique SK_ID_CURR"
   ]
  },
  {
   "cell_type": "code",
   "execution_count": 190,
   "metadata": {},
   "outputs": [
    {
     "data": {
      "text/plain": [
       "0"
      ]
     },
     "execution_count": 190,
     "metadata": {},
     "output_type": "execute_result"
    }
   ],
   "source": [
    "\n",
    "len(df_test.loc[df_test.duplicated(subset='SK_ID_CURR',keep='first')]) ## 0 aucun doublons"
   ]
  },
  {
   "cell_type": "markdown",
   "metadata": {},
   "source": [
    "76 variables dont:\n",
    "* 50 numériques\n",
    "* 26 catégorielles"
   ]
  },
  {
   "cell_type": "code",
   "execution_count": 191,
   "metadata": {},
   "outputs": [
    {
     "name": "stdout",
     "output_type": "stream",
     "text": [
      "len(numeric_cols) 50\n",
      "len(string_cols) 26\n"
     ]
    }
   ],
   "source": [
    "\n",
    "numeric_cols=df_train.select_dtypes(exclude = ['object']).columns.tolist()\n",
    "string_cols=df_train.select_dtypes(include = ['object']).columns.tolist()\n",
    "print('len(numeric_cols)',len(numeric_cols))\n",
    "print('len(string_cols)',len(string_cols))"
   ]
  },
  {
   "cell_type": "markdown",
   "metadata": {},
   "source": [
    "### 1-1 <u>Analyse univariée de la variable cible TARGET </u>"
   ]
  },
  {
   "cell_type": "code",
   "execution_count": 192,
   "metadata": {},
   "outputs": [
    {
     "data": {
      "text/plain": [
       "<matplotlib.axes._subplots.AxesSubplot at 0x7ff15be89f90>"
      ]
     },
     "execution_count": 192,
     "metadata": {},
     "output_type": "execute_result"
    },
    {
     "data": {
      "image/png": "[encoded data removed]",
      "text/plain": [
       "<Figure size 432x288 with 1 Axes>"
      ]
     },
     "metadata": {},
     "output_type": "display_data"
    }
   ],
   "source": [
    "df_train['TARGET'].map(lambda x: 'paid=No' if x==1 else 'paid=Yes')\\\n",
    "    .value_counts()\\\n",
    "    .plot\\\n",
    "    .pie(autopct='%1.1f%%')"
   ]
  },
  {
   "cell_type": "markdown",
   "metadata": {},
   "source": [
    "on note un déséquilibre de classe:\n",
    "* 8.1% des clients sont en défaut de paiement\n",
    "* 91.9% des clients ne sont pas en défaut de paiement "
   ]
  },
  {
   "cell_type": "markdown",
   "metadata": {},
   "source": [
    "### 1-2 <u>Analyse variables catégorielles</u>"
   ]
  },
  {
   "cell_type": "code",
   "execution_count": 193,
   "metadata": {},
   "outputs": [
    {
     "data": {
      "text/html": [
       "<div>\n",
       "<style scoped>\n",
       "    .dataframe tbody tr th:only-of-type {\n",
       "        vertical-align: middle;\n",
       "    }\n",
       "\n",
       "    .dataframe tbody tr th {\n",
       "        vertical-align: top;\n",
       "    }\n",
       "\n",
       "    .dataframe thead th {\n",
       "        text-align: right;\n",
       "    }\n",
       "</style>\n",
       "<table border=\"1\" class=\"dataframe\">\n",
       "  <thead>\n",
       "    <tr style=\"text-align: right;\">\n",
       "      <th></th>\n",
       "      <th>Column</th>\n",
       "      <th>na_rate_percent</th>\n",
       "    </tr>\n",
       "  </thead>\n",
       "  <tbody>\n",
       "  </tbody>\n",
       "</table>\n",
       "</div>"
      ],
      "text/plain": [
       "Empty DataFrame\n",
       "Columns: [Column, na_rate_percent]\n",
       "Index: []"
      ]
     },
     "execution_count": 193,
     "metadata": {},
     "output_type": "execute_result"
    }
   ],
   "source": [
    " \n",
    "na_df=utils.columns_na_percentage(df_train[string_cols])\n",
    "na_columns=na_df[na_df['na_rate_percent']>30] ## 6 colonnes ont  des valeurs nulles\n",
    "na_columns\n"
   ]
  },
  {
   "cell_type": "code",
   "execution_count": 194,
   "metadata": {},
   "outputs": [],
   "source": [
    "if len(na_columns)>0:\n",
    "    utils.draw_completion(df_train[string_cols],na_columns.shape[0])"
   ]
  },
  {
   "cell_type": "markdown",
   "metadata": {},
   "source": [
    "* suppression de ces variables, vu leur imputation difficile et leur potentielle indisponibilité lors de la classification"
   ]
  },
  {
   "cell_type": "code",
   "execution_count": 195,
   "metadata": {},
   "outputs": [],
   "source": [
    "cols_to_remove = [col for col in na_columns['Column'].tolist() if col not in ['OCCUPATION_TYPE']]\n",
    "\"\"\"\n",
    "cols_to_remove = [col for col in na_columns['Column'].tolist() if col not in ['OCCUPATION_TYPE']]\n",
    "df_train.drop(columns=cols_to_remove,axis=1,inplace=True)\n",
    "df_test.drop(columns=cols_to_remove,axis=1,inplace=True)\n",
    "df_train.shape\n",
    "\"\"\"\n",
    "for col in cols_to_remove:\n",
    "    df_train[col]=df_train[col].fillna('unknown')\n",
    "    df_test[col]=df_test[col].fillna('unknown')\n"
   ]
  },
  {
   "cell_type": "code",
   "execution_count": 196,
   "metadata": {},
   "outputs": [],
   "source": [
    "relevant_string_cols=[col for col in string_cols if col not in cols_to_remove]\n",
    "relevant_string_cols=df_train.select_dtypes(include = ['object']).columns.tolist()"
   ]
  },
  {
   "cell_type": "markdown",
   "metadata": {},
   "source": [
    "* suppression de la colonne ORGANIZATION_TYPE du fait de son encodage très large 58 variables"
   ]
  },
  {
   "cell_type": "code",
   "execution_count": 197,
   "metadata": {},
   "outputs": [],
   "source": [
    "for col in relevant_string_cols:\n",
    "    if df_train[col].nunique() >10:\n",
    "        if col in df_train.columns.tolist():\n",
    "            df_train.drop(columns=[col],axis=1,inplace=True)\n",
    "        if col in df_test.columns.tolist():\n",
    "            df_test.drop(columns=[col],axis=1,inplace=True)\n",
    "            "
   ]
  },
  {
   "cell_type": "code",
   "execution_count": 198,
   "metadata": {},
   "outputs": [
    {
     "name": "stdout",
     "output_type": "stream",
     "text": [
      "len(numeric_cols) 50\n",
      "len(string_cols) 20\n"
     ]
    }
   ],
   "source": [
    "\n",
    "numeric_cols=df_train.select_dtypes(exclude = ['object']).columns.tolist()\n",
    "string_cols=df_train.select_dtypes(include = ['object']).columns.tolist()\n",
    "print('len(numeric_cols)',len(numeric_cols))\n",
    "print('len(string_cols)',len(string_cols))"
   ]
  },
  {
   "cell_type": "code",
   "execution_count": 199,
   "metadata": {},
   "outputs": [
    {
     "data": {
      "text/plain": [
       "SK_ID_CURR                                        0.000000\n",
       "TARGET                                            0.000000\n",
       "NAME_CONTRACT_TYPE                                0.000000\n",
       "CODE_GENDER                                       0.000000\n",
       "FLAG_OWN_CAR                                      0.000000\n",
       "                                                    ...   \n",
       "frequent-pos_cash_balance-NAME_CONTRACT_STATUS    5.875237\n",
       "installments_payments_DAYS_INSTALMENT_mean        5.160141\n",
       "installments_payments_DAYS_ENTRY_PAYMENT_mean     5.162742\n",
       "installments_payments_AMT_INSTALMENT_mean         5.160141\n",
       "installments_payments_AMT_PAYMENT_mean            5.162742\n",
       "Length: 70, dtype: float64"
      ]
     },
     "execution_count": 199,
     "metadata": {},
     "output_type": "execute_result"
    }
   ],
   "source": [
    "df_train.isnull().sum()/len(df_train)*100"
   ]
  },
  {
   "cell_type": "markdown",
   "metadata": {},
   "source": [
    "#### 1-2-1 <u>Analyse des type prêts</u>"
   ]
  },
  {
   "cell_type": "code",
   "execution_count": 200,
   "metadata": {},
   "outputs": [
    {
     "data": {
      "text/plain": [
       "<matplotlib.axes._subplots.AxesSubplot at 0x7ff15becccd0>"
      ]
     },
     "execution_count": 200,
     "metadata": {},
     "output_type": "execute_result"
    },
    {
     "data": {
      "image/png": "[encoded data removed]",
      "text/plain": [
       "<Figure size 432x288 with 1 Axes>"
      ]
     },
     "metadata": {},
     "output_type": "display_data"
    }
   ],
   "source": [
    "df_train['NAME_CONTRACT_TYPE']\\\n",
    "    .value_counts()\\\n",
    "    .plot\\\n",
    "    .pie(autopct='%1.1f%%')"
   ]
  },
  {
   "cell_type": "markdown",
   "metadata": {},
   "source": [
    "* la majorité des prêts sont des prêts de trésorerie(découvert etc ...)\n",
    "* les crédits renouvelables (revolving loans) sont moindres avec un taux de solvabilité beaucoup plus réduit"
   ]
  },
  {
   "cell_type": "markdown",
   "metadata": {},
   "source": [
    "#### 1-2-2 <u>Analyse de la civilité</u>"
   ]
  },
  {
   "cell_type": "code",
   "execution_count": 201,
   "metadata": {},
   "outputs": [
    {
     "data": {
      "text/plain": [
       "<matplotlib.axes._subplots.AxesSubplot at 0x7ff15bc1dd10>"
      ]
     },
     "execution_count": 201,
     "metadata": {},
     "output_type": "execute_result"
    },
    {
     "data": {
      "image/png": "[encoded data removed]",
      "text/plain": [
       "<Figure size 432x288 with 1 Axes>"
      ]
     },
     "metadata": {},
     "output_type": "display_data"
    }
   ],
   "source": [
    "df_train['CODE_GENDER']\\\n",
    "    .value_counts()\\\n",
    "    .plot\\\n",
    "    .pie(autopct='%1.1f%%')"
   ]
  },
  {
   "cell_type": "markdown",
   "metadata": {},
   "source": [
    "* 65 % des emprunteurs sont des femmes"
   ]
  },
  {
   "cell_type": "markdown",
   "metadata": {},
   "source": [
    "#### 1-2-3 <u>Analyse des types de revenus</u>"
   ]
  },
  {
   "cell_type": "code",
   "execution_count": 202,
   "metadata": {},
   "outputs": [
    {
     "data": {
      "text/plain": [
       "<matplotlib.axes._subplots.AxesSubplot at 0x7ff16c950fd0>"
      ]
     },
     "execution_count": 202,
     "metadata": {},
     "output_type": "execute_result"
    },
    {
     "data": {
      "image/png": "[encoded data removed]",
      "text/plain": [
       "<Figure size 432x288 with 1 Axes>"
      ]
     },
     "metadata": {},
     "output_type": "display_data"
    }
   ],
   "source": [
    "df_train['NAME_INCOME_TYPE']\\\n",
    "    .value_counts()\\\n",
    "    .plot\\\n",
    "    .pie(autopct='%1.1f%%')"
   ]
  },
  {
   "cell_type": "markdown",
   "metadata": {},
   "source": [
    "* 51% sont des revenus ouvriers"
   ]
  },
  {
   "cell_type": "markdown",
   "metadata": {},
   "source": [
    "#### 1-2-4 <u>Analyse de la possession de voiture ou pas</u>"
   ]
  },
  {
   "cell_type": "code",
   "execution_count": 203,
   "metadata": {},
   "outputs": [
    {
     "data": {
      "text/plain": [
       "<matplotlib.axes._subplots.AxesSubplot at 0x7ff16c83f150>"
      ]
     },
     "execution_count": 203,
     "metadata": {},
     "output_type": "execute_result"
    },
    {
     "data": {
      "image/png": "[encoded data removed]",
      "text/plain": [
       "<Figure size 432x288 with 1 Axes>"
      ]
     },
     "metadata": {},
     "output_type": "display_data"
    }
   ],
   "source": [
    "df_train['FLAG_OWN_CAR']\\\n",
    "    .value_counts()\\\n",
    "    .plot\\\n",
    "    .pie(autopct='%1.1f%%')"
   ]
  },
  {
   "cell_type": "markdown",
   "metadata": {},
   "source": [
    "* 66% des emprunteurs ne possèdent pas de voitures"
   ]
  },
  {
   "cell_type": "markdown",
   "metadata": {},
   "source": [
    "#### 1-2-5 <u>Analyse de la possession de biens immobiliers</u>"
   ]
  },
  {
   "cell_type": "code",
   "execution_count": 204,
   "metadata": {},
   "outputs": [
    {
     "data": {
      "text/plain": [
       "<matplotlib.axes._subplots.AxesSubplot at 0x7ff16c7dd350>"
      ]
     },
     "execution_count": 204,
     "metadata": {},
     "output_type": "execute_result"
    },
    {
     "data": {
      "image/png": "[encoded data removed]",
      "text/plain": [
       "<Figure size 432x288 with 1 Axes>"
      ]
     },
     "metadata": {},
     "output_type": "display_data"
    }
   ],
   "source": [
    "df_train['FLAG_OWN_REALTY']\\\n",
    "    .value_counts()\\\n",
    "    .plot\\\n",
    "    .pie(autopct='%1.1f%%')"
   ]
  },
  {
   "cell_type": "markdown",
   "metadata": {},
   "source": [
    "* 69 % possèdent un bien immobilier"
   ]
  },
  {
   "cell_type": "markdown",
   "metadata": {},
   "source": [
    "#### 1-2-6 <u>Analyse du status marital</u>"
   ]
  },
  {
   "cell_type": "code",
   "execution_count": 205,
   "metadata": {},
   "outputs": [
    {
     "data": {
      "text/plain": [
       "<matplotlib.axes._subplots.AxesSubplot at 0x7ff16c86d790>"
      ]
     },
     "execution_count": 205,
     "metadata": {},
     "output_type": "execute_result"
    },
    {
     "data": {
      "image/png": "[encoded data removed]",
      "text/plain": [
       "<Figure size 432x288 with 1 Axes>"
      ]
     },
     "metadata": {},
     "output_type": "display_data"
    }
   ],
   "source": [
    "df_train['NAME_FAMILY_STATUS']\\\n",
    "    .value_counts()\\\n",
    "    .plot\\\n",
    "    .pie(autopct='%1.1f%%')"
   ]
  },
  {
   "cell_type": "markdown",
   "metadata": {},
   "source": [
    "* 69% sont mariés"
   ]
  },
  {
   "cell_type": "markdown",
   "metadata": {},
   "source": [
    "#### 1-2-7 <u>Analyse du niveau d'éducation</u>"
   ]
  },
  {
   "cell_type": "code",
   "execution_count": 206,
   "metadata": {},
   "outputs": [
    {
     "data": {
      "text/plain": [
       "<matplotlib.axes._subplots.AxesSubplot at 0x7ff16c7907d0>"
      ]
     },
     "execution_count": 206,
     "metadata": {},
     "output_type": "execute_result"
    },
    {
     "data": {
      "image/png": "[encoded data removed]",
      "text/plain": [
       "<Figure size 432x288 with 1 Axes>"
      ]
     },
     "metadata": {},
     "output_type": "display_data"
    }
   ],
   "source": [
    "\n",
    "df_train['NAME_EDUCATION_TYPE']\\\n",
    "    .value_counts()\\\n",
    "    .plot\\\n",
    "    .pie(autopct='%1.1f%%')"
   ]
  },
  {
   "cell_type": "markdown",
   "metadata": {},
   "source": [
    "71 % ont un niveau d'éducation secondaire"
   ]
  },
  {
   "cell_type": "markdown",
   "metadata": {},
   "source": [
    "#### 1-2-8 <u>Analyse l'habitat immobilier</u>"
   ]
  },
  {
   "cell_type": "code",
   "execution_count": 207,
   "metadata": {},
   "outputs": [
    {
     "data": {
      "text/plain": [
       "<matplotlib.axes._subplots.AxesSubplot at 0x7ff16ca38350>"
      ]
     },
     "execution_count": 207,
     "metadata": {},
     "output_type": "execute_result"
    },
    {
     "data": {
      "image/png": "[encoded data removed]",
      "text/plain": [
       "<Figure size 432x288 with 1 Axes>"
      ]
     },
     "metadata": {},
     "output_type": "display_data"
    }
   ],
   "source": [
    "df_train['NAME_HOUSING_TYPE']\\\n",
    "    .value_counts()\\\n",
    "    .plot\\\n",
    "    .pie(autopct='%1.1f%%')"
   ]
  },
  {
   "cell_type": "markdown",
   "metadata": {},
   "source": [
    "* 88 % habitent dans une maison ou appartement"
   ]
  },
  {
   "cell_type": "markdown",
   "metadata": {},
   "source": [
    "### 1-3 <u>Analyse variables numériques</u>"
   ]
  },
  {
   "cell_type": "markdown",
   "metadata": {},
   "source": [
    "* suppression des variables scores EXT_SOURCE_2, EXT_SOURCE_3 au sens où ils peuvent être inconnus au moment de la classification"
   ]
  },
  {
   "cell_type": "code",
   "execution_count": 243,
   "metadata": {},
   "outputs": [
    {
     "data": {
      "text/html": [
       "<div>\n",
       "<style scoped>\n",
       "    .dataframe tbody tr th:only-of-type {\n",
       "        vertical-align: middle;\n",
       "    }\n",
       "\n",
       "    .dataframe tbody tr th {\n",
       "        vertical-align: top;\n",
       "    }\n",
       "\n",
       "    .dataframe thead th {\n",
       "        text-align: right;\n",
       "    }\n",
       "</style>\n",
       "<table border=\"1\" class=\"dataframe\">\n",
       "  <thead>\n",
       "    <tr style=\"text-align: right;\">\n",
       "      <th></th>\n",
       "      <th>Row</th>\n",
       "      <th>Description</th>\n",
       "    </tr>\n",
       "  </thead>\n",
       "  <tbody>\n",
       "    <tr>\n",
       "      <th>42</th>\n",
       "      <td>EXT_SOURCE_2</td>\n",
       "      <td>Normalized score from external data source</td>\n",
       "    </tr>\n",
       "  </tbody>\n",
       "</table>\n",
       "</div>"
      ],
      "text/plain": [
       "             Row                                 Description\n",
       "42  EXT_SOURCE_2  Normalized score from external data source"
      ]
     },
     "execution_count": 243,
     "metadata": {},
     "output_type": "execute_result"
    }
   ],
   "source": [
    "find_doc(['EXT_SOURCE_2'])[['Row','Description']]"
   ]
  },
  {
   "cell_type": "code",
   "execution_count": 208,
   "metadata": {},
   "outputs": [],
   "source": [
    "UNRELEVANT_COLS=['EXT_SOURCE_2','EXT_SOURCE_3']\n",
    "for col in UNRELEVANT_COLS:\n",
    "    if col in numeric_cols:\n",
    "        numeric_cols.remove(col)\n",
    "if set(UNRELEVANT_COLS).issubset(df_train.columns.tolist()):\n",
    "    df_train.drop(columns=UNRELEVANT_COLS,axis=1,inplace=True)\n",
    "    \n",
    "if set(UNRELEVANT_COLS).issubset(df_test.columns.tolist()):\n",
    "    df_test.drop(columns=UNRELEVANT_COLS,axis=1,inplace=True)"
   ]
  },
  {
   "cell_type": "code",
   "execution_count": 209,
   "metadata": {},
   "outputs": [],
   "source": [
    "for col in df_train.columns.tolist():\n",
    "    if col.endswith('_x'):\n",
    "        new_col=col.replace('_x','')\n",
    "        df_train.rename(columns={col: new_col, }, inplace=True)\n",
    "        df_test.rename(columns={col: new_col, }, inplace=True)\n",
    "    if col.endswith('_y'):\n",
    "        new_col=col.replace('_y','')\n",
    "        df_train.rename(columns={col: new_col, }, inplace=True)\n",
    "        df_test.rename(columns={col: new_col, }, inplace=True)"
   ]
  },
  {
   "cell_type": "code",
   "execution_count": 210,
   "metadata": {},
   "outputs": [],
   "source": [
    " \n",
    "na_df=utils.columns_na_percentage(df_train)\n",
    "na_columns=na_df[na_df['na_rate_percent']>0] ## 25 colonnes ont  des valeurs nulles\n",
    "\n"
   ]
  },
  {
   "cell_type": "markdown",
   "metadata": {},
   "source": [
    "* imputation des valeurs manquantes par la moyenne"
   ]
  },
  {
   "cell_type": "code",
   "execution_count": 211,
   "metadata": {},
   "outputs": [
    {
     "data": {
      "text/plain": [
       "\"\\nfor col in na_columns['Column']:\\n    df_train[col]=df_train[col].fillna(df_train[col].mean())\\n    df_test[col]=df_test[col].fillna(df_test[col].mean())\\n\""
      ]
     },
     "execution_count": 211,
     "metadata": {},
     "output_type": "execute_result"
    }
   ],
   "source": [
    "col='COUNT_PAST_HOME_LOANS'\n",
    "df_train[col]=df_train[col].fillna(0)\n",
    "df_test[col]=df_test[col].fillna(0)\n",
    "\"\"\"\n",
    "for col in na_columns['Column']:\n",
    "    df_train[col]=df_train[col].fillna(df_train[col].mean())\n",
    "    df_test[col]=df_test[col].fillna(df_test[col].mean())\n",
    "\"\"\""
   ]
  },
  {
   "cell_type": "code",
   "execution_count": 212,
   "metadata": {},
   "outputs": [
    {
     "name": "stdout",
     "output_type": "stream",
     "text": [
      "<class 'pandas.core.frame.DataFrame'>\n",
      "RangeIndex: 307511 entries, 0 to 307510\n",
      "Data columns (total 68 columns):\n",
      " #   Column                                                     Non-Null Count   Dtype  \n",
      "---  ------                                                     --------------   -----  \n",
      " 0   SK_ID_CURR                                                 307511 non-null  int64  \n",
      " 1   TARGET                                                     307511 non-null  float64\n",
      " 2   NAME_CONTRACT_TYPE                                         307511 non-null  object \n",
      " 3   CODE_GENDER                                                307511 non-null  object \n",
      " 4   FLAG_OWN_CAR                                               307511 non-null  object \n",
      " 5   FLAG_OWN_REALTY                                            307511 non-null  object \n",
      " 6   CNT_CHILDREN                                               307511 non-null  int64  \n",
      " 7   AMT_INCOME_TOTAL                                           307511 non-null  float64\n",
      " 8   AMT_CREDIT                                                 307511 non-null  float64\n",
      " 9   AMT_ANNUITY                                                307511 non-null  float64\n",
      " 10  AMT_GOODS_PRICE                                            307511 non-null  float64\n",
      " 11  NAME_INCOME_TYPE                                           307511 non-null  object \n",
      " 12  NAME_EDUCATION_TYPE                                        307511 non-null  object \n",
      " 13  NAME_FAMILY_STATUS                                         307511 non-null  object \n",
      " 14  NAME_HOUSING_TYPE                                          307511 non-null  object \n",
      " 15  CNT_FAM_MEMBERS                                            307511 non-null  float64\n",
      " 16  AGE                                                        307511 non-null  float64\n",
      " 17  PRO_SENIORITY                                              307511 non-null  float64\n",
      " 18  ACCOUNT_SENIORITY                                          307511 non-null  float64\n",
      " 19  ANNUITY_AMT_CREDIT_PERCENT                                 307511 non-null  float64\n",
      " 20  ANNUITY_INCOME_PERCENT                                     307511 non-null  float64\n",
      " 21  CREDIT_TERM                                                307511 non-null  float64\n",
      " 22  AGE_LOAN_FINISH                                            307511 non-null  float64\n",
      " 23  GOODS_LOAN_PERCENT                                         307511 non-null  float64\n",
      " 24  INCOME_AFTER_ANNUITY                                       307511 non-null  float64\n",
      " 25  NET_INCOME_PER_FAMILY_HEAD_AFTER_ANNUITY                   307511 non-null  float64\n",
      " 26  COUNT_PAST_LOANS                                           307511 non-null  float64\n",
      " 27  COUNT_PAST_HOME_LOANS                                      307511 non-null  float64\n",
      " 28  COUNT_POS_SALE                                             307511 non-null  float64\n",
      " 29  COUNT_CREDIT_SALE                                          307511 non-null  float64\n",
      " 30  COUNT_PAST_INSTALLMENT                                     307511 non-null  float64\n",
      " 31  COUNT_PAST_HOME_LOANS                                      307511 non-null  float64\n",
      " 32  bureau_DAYS_CREDIT_mean                                    263491 non-null  float64\n",
      " 33  bureau_CREDIT_DAY_OVERDUE_mean                             263491 non-null  float64\n",
      " 34  bureau_DAYS_CREDIT_ENDDATE_mean                            261242 non-null  float64\n",
      " 35  bureau_CNT_CREDIT_PROLONG_mean                             263491 non-null  float64\n",
      " 36  bureau_AMT_CREDIT_SUM_mean                                 263490 non-null  float64\n",
      " 37  bureau_AMT_CREDIT_SUM_DEBT_mean                            256131 non-null  float64\n",
      " 38  bureau_AMT_CREDIT_SUM_OVERDUE_mean                         263491 non-null  float64\n",
      " 39  bureau_DAYS_CREDIT_UPDATE_mean                             263491 non-null  float64\n",
      " 40  frequent-bureau-CREDIT_ACTIVE                              263491 non-null  object \n",
      " 41  previous_application_AMT_ANNUITY_mean                      290640 non-null  float64\n",
      " 42  previous_application_AMT_APPLICATION_mean                  291057 non-null  float64\n",
      " 43  previous_application_AMT_CREDIT_mean                       291057 non-null  float64\n",
      " 44  previous_application_AMT_GOODS_PRICE_mean                  290082 non-null  float64\n",
      " 45  previous_application_NFLAG_LAST_APPL_IN_DAY_mean           291057 non-null  float64\n",
      " 46  previous_application_SELLERPLACE_AREA_mean                 291057 non-null  float64\n",
      " 47  previous_application_CNT_PAYMENT_mean                      290642 non-null  float64\n",
      " 48  frequent-previous_application-NAME_CONTRACT_TYPE           291057 non-null  object \n",
      " 49  frequent-previous_application-FLAG_LAST_APPL_PER_CONTRACT  291057 non-null  object \n",
      " 50  frequent-previous_application-NAME_CONTRACT_STATUS         291057 non-null  object \n",
      " 51  frequent-previous_application-NAME_PAYMENT_TYPE            291057 non-null  object \n",
      " 52  frequent-previous_application-CODE_REJECT_REASON           291057 non-null  object \n",
      " 53  frequent-previous_application-NAME_CLIENT_TYPE             291057 non-null  object \n",
      " 54  frequent-previous_application-NAME_PORTFOLIO               291057 non-null  object \n",
      " 55  frequent-previous_application-NAME_PRODUCT_TYPE            291057 non-null  object \n",
      " 56  frequent-previous_application-CHANNEL_TYPE                 291057 non-null  object \n",
      " 57  frequent-previous_application-NAME_YIELD_GROUP             291057 non-null  object \n",
      " 58  pos_cash_balance_MONTHS_BALANCE_mean                       289444 non-null  float64\n",
      " 59  pos_cash_balance_CNT_INSTALMENT_mean                       289420 non-null  float64\n",
      " 60  pos_cash_balance_CNT_INSTALMENT_FUTURE_mean                289420 non-null  float64\n",
      " 61  pos_cash_balance_SK_DPD_mean                               289444 non-null  float64\n",
      " 62  pos_cash_balance_SK_DPD_DEF_mean                           289444 non-null  float64\n",
      " 63  frequent-pos_cash_balance-NAME_CONTRACT_STATUS             289444 non-null  object \n",
      " 64  installments_payments_DAYS_INSTALMENT_mean                 291643 non-null  float64\n",
      " 65  installments_payments_DAYS_ENTRY_PAYMENT_mean              291635 non-null  float64\n",
      " 66  installments_payments_AMT_INSTALMENT_mean                  291643 non-null  float64\n",
      " 67  installments_payments_AMT_PAYMENT_mean                     291635 non-null  float64\n",
      "dtypes: float64(46), int64(2), object(20)\n",
      "memory usage: 159.5+ MB\n"
     ]
    }
   ],
   "source": [
    "df_train.info()"
   ]
  },
  {
   "cell_type": "code",
   "execution_count": 213,
   "metadata": {},
   "outputs": [
    {
     "data": {
      "text/plain": [
       "SK_ID_CURR                                          0.000000\n",
       "TARGET                                            100.000000\n",
       "NAME_CONTRACT_TYPE                                  0.000000\n",
       "CODE_GENDER                                         0.000000\n",
       "FLAG_OWN_CAR                                        0.000000\n",
       "                                                     ...    \n",
       "frequent-pos_cash_balance-NAME_CONTRACT_STATUS      1.920236\n",
       "installments_payments_DAYS_INSTALMENT_mean          1.641228\n",
       "installments_payments_DAYS_ENTRY_PAYMENT_mean       1.643279\n",
       "installments_payments_AMT_INSTALMENT_mean           1.641228\n",
       "installments_payments_AMT_PAYMENT_mean              1.643279\n",
       "Length: 68, dtype: float64"
      ]
     },
     "execution_count": 213,
     "metadata": {},
     "output_type": "execute_result"
    }
   ],
   "source": [
    "df_test.isnull().sum()/len(df_test)*100"
   ]
  },
  {
   "cell_type": "code",
   "execution_count": 214,
   "metadata": {},
   "outputs": [
    {
     "data": {
      "text/html": [
       "<div>\n",
       "<style scoped>\n",
       "    .dataframe tbody tr th:only-of-type {\n",
       "        vertical-align: middle;\n",
       "    }\n",
       "\n",
       "    .dataframe tbody tr th {\n",
       "        vertical-align: top;\n",
       "    }\n",
       "\n",
       "    .dataframe thead th {\n",
       "        text-align: right;\n",
       "    }\n",
       "</style>\n",
       "<table border=\"1\" class=\"dataframe\">\n",
       "  <thead>\n",
       "    <tr style=\"text-align: right;\">\n",
       "      <th></th>\n",
       "      <th>AGE</th>\n",
       "      <th>AGE_LOAN_FINISH</th>\n",
       "      <th>PRO_SENIORITY</th>\n",
       "      <th>ACCOUNT_SENIORITY</th>\n",
       "    </tr>\n",
       "  </thead>\n",
       "  <tbody>\n",
       "    <tr>\n",
       "      <th>count</th>\n",
       "      <td>307511.000000</td>\n",
       "      <td>307511.000000</td>\n",
       "      <td>307511.000000</td>\n",
       "      <td>307511.000000</td>\n",
       "    </tr>\n",
       "    <tr>\n",
       "      <th>mean</th>\n",
       "      <td>44.433090</td>\n",
       "      <td>66.045329</td>\n",
       "      <td>-174.303742</td>\n",
       "      <td>14.165679</td>\n",
       "    </tr>\n",
       "    <tr>\n",
       "      <th>std</th>\n",
       "      <td>11.954493</td>\n",
       "      <td>14.979324</td>\n",
       "      <td>386.994347</td>\n",
       "      <td>9.646868</td>\n",
       "    </tr>\n",
       "    <tr>\n",
       "      <th>min</th>\n",
       "      <td>21.000000</td>\n",
       "      <td>30.333204</td>\n",
       "      <td>-1000.000000</td>\n",
       "      <td>-0.000000</td>\n",
       "    </tr>\n",
       "    <tr>\n",
       "      <th>25%</th>\n",
       "      <td>35.000000</td>\n",
       "      <td>54.172958</td>\n",
       "      <td>1.000000</td>\n",
       "      <td>6.000000</td>\n",
       "    </tr>\n",
       "    <tr>\n",
       "      <th>50%</th>\n",
       "      <td>44.000000</td>\n",
       "      <td>66.204071</td>\n",
       "      <td>4.000000</td>\n",
       "      <td>13.000000</td>\n",
       "    </tr>\n",
       "    <tr>\n",
       "      <th>75%</th>\n",
       "      <td>54.000000</td>\n",
       "      <td>77.708820</td>\n",
       "      <td>8.000000</td>\n",
       "      <td>21.000000</td>\n",
       "    </tr>\n",
       "    <tr>\n",
       "      <th>max</th>\n",
       "      <td>70.000000</td>\n",
       "      <td>110.891640</td>\n",
       "      <td>50.000000</td>\n",
       "      <td>68.000000</td>\n",
       "    </tr>\n",
       "  </tbody>\n",
       "</table>\n",
       "</div>"
      ],
      "text/plain": [
       "                 AGE  AGE_LOAN_FINISH  PRO_SENIORITY  ACCOUNT_SENIORITY\n",
       "count  307511.000000    307511.000000  307511.000000      307511.000000\n",
       "mean       44.433090        66.045329    -174.303742          14.165679\n",
       "std        11.954493        14.979324     386.994347           9.646868\n",
       "min        21.000000        30.333204   -1000.000000          -0.000000\n",
       "25%        35.000000        54.172958       1.000000           6.000000\n",
       "50%        44.000000        66.204071       4.000000          13.000000\n",
       "75%        54.000000        77.708820       8.000000          21.000000\n",
       "max        70.000000       110.891640      50.000000          68.000000"
      ]
     },
     "execution_count": 214,
     "metadata": {},
     "output_type": "execute_result"
    }
   ],
   "source": [
    "df_train[['AGE','AGE_LOAN_FINISH','PRO_SENIORITY','ACCOUNT_SENIORITY']].describe()"
   ]
  },
  {
   "cell_type": "markdown",
   "metadata": {},
   "source": [
    "* imputation des valeurs négatives concernant les variables ages par zéro\n",
    "* conversion en euros des montants du prêts\n",
    "* imputation par zéro des valeurs moyennes"
   ]
  },
  {
   "cell_type": "code",
   "execution_count": 244,
   "metadata": {},
   "outputs": [],
   "source": [
    "\n",
    "age_cols=['AGE','AGE_LOAN_FINISH','PRO_SENIORITY','ACCOUNT_SENIORITY']\n",
    "\n",
    "for col in age_cols:\n",
    "    df_train[col] = df_train[col].apply(lambda x : x if x > 0 else 0)\n",
    "    df_test[col] = df_test[col].apply(lambda x : x if x > 0 else 0)\n",
    "currency=86   \n",
    "df_train['AMT_GOODS_PRICE']=df_train['AMT_GOODS_PRICE']/currency\n",
    "df_train['AMT_CREDIT']=df_train['AMT_CREDIT']/currency\n",
    "df_train['AMT_ANNUITY']=df_train['AMT_ANNUITY']/currency\n",
    "df_train['AMT_INCOME_TOTAL']=df_train['AMT_INCOME_TOTAL']/currency\n",
    "\n",
    "df_test['AMT_GOODS_PRICE']=df_test['AMT_GOODS_PRICE']/currency\n",
    "df_test['AMT_CREDIT']=df_test['AMT_CREDIT']/currency\n",
    "df_test['AMT_ANNUITY']=df_test['AMT_ANNUITY']/currency\n",
    "df_test['AMT_INCOME_TOTAL']=df_test['AMT_INCOME_TOTAL']/currency\n",
    "\n",
    "for col in df_train.columns.tolist():\n",
    "    if col.endswith('mean'):\n",
    "        df_train[col]= df_train[col].fillna(df_train[col].median())\n",
    "        df_test[col]=  df_test[col].fillna(df_test[col].median())\n"
   ]
  },
  {
   "cell_type": "code",
   "execution_count": 216,
   "metadata": {},
   "outputs": [],
   "source": [
    "def corr_target(df_train):\n",
    "    # List of new correlations\n",
    "    new_corrs = []\n",
    "\n",
    "    # Iterate through the columns \n",
    "    for col in df_train.select_dtypes(exclude = ['object']).columns.tolist():\n",
    "    #for col in cols:\n",
    "        # Calculate correlation with the target\n",
    "        corr = df_train['TARGET'].corr(df_train[col])\n",
    "\n",
    "        # Append the list as a tuple\n",
    "\n",
    "        new_corrs.append((col, corr))\n",
    "\n",
    "    # Sort the correlations by the absolute value\n",
    "    # Make sure to reverse to put the largest values at the front of list\n",
    "    new_corrs = sorted(new_corrs, key = lambda x: abs(x[1]), reverse = True)\n",
    "    return new_corrs"
   ]
  },
  {
   "cell_type": "code",
   "execution_count": 245,
   "metadata": {},
   "outputs": [
    {
     "data": {
      "text/html": [
       "<div>\n",
       "<style scoped>\n",
       "    .dataframe tbody tr th:only-of-type {\n",
       "        vertical-align: middle;\n",
       "    }\n",
       "\n",
       "    .dataframe tbody tr th {\n",
       "        vertical-align: top;\n",
       "    }\n",
       "\n",
       "    .dataframe thead th {\n",
       "        text-align: right;\n",
       "    }\n",
       "</style>\n",
       "<table border=\"1\" class=\"dataframe\">\n",
       "  <thead>\n",
       "    <tr style=\"text-align: right;\">\n",
       "      <th></th>\n",
       "      <th>index</th>\n",
       "      <th>0</th>\n",
       "    </tr>\n",
       "  </thead>\n",
       "  <tbody>\n",
       "    <tr>\n",
       "      <th>24</th>\n",
       "      <td>bureau_DAYS_CREDIT_mean</td>\n",
       "      <td>0.083960</td>\n",
       "    </tr>\n",
       "    <tr>\n",
       "      <th>31</th>\n",
       "      <td>bureau_DAYS_CREDIT_UPDATE_mean</td>\n",
       "      <td>0.069687</td>\n",
       "    </tr>\n",
       "    <tr>\n",
       "      <th>26</th>\n",
       "      <td>bureau_DAYS_CREDIT_ENDDATE_mean</td>\n",
       "      <td>0.039813</td>\n",
       "    </tr>\n",
       "    <tr>\n",
       "      <th>45</th>\n",
       "      <td>installments_payments_DAYS_ENTRY_PAYMENT_mean</td>\n",
       "      <td>0.034770</td>\n",
       "    </tr>\n",
       "    <tr>\n",
       "      <th>44</th>\n",
       "      <td>installments_payments_DAYS_INSTALMENT_mean</td>\n",
       "      <td>0.034460</td>\n",
       "    </tr>\n",
       "    <tr>\n",
       "      <th>38</th>\n",
       "      <td>previous_application_CNT_PAYMENT_mean</td>\n",
       "      <td>0.032248</td>\n",
       "    </tr>\n",
       "    <tr>\n",
       "      <th>41</th>\n",
       "      <td>pos_cash_balance_CNT_INSTALMENT_FUTURE_mean</td>\n",
       "      <td>0.029791</td>\n",
       "    </tr>\n",
       "    <tr>\n",
       "      <th>39</th>\n",
       "      <td>pos_cash_balance_MONTHS_BALANCE_mean</td>\n",
       "      <td>0.026813</td>\n",
       "    </tr>\n",
       "    <tr>\n",
       "      <th>17</th>\n",
       "      <td>COUNT_PAST_HOME_LOANS</td>\n",
       "      <td>0.023513</td>\n",
       "    </tr>\n",
       "    <tr>\n",
       "      <th>23</th>\n",
       "      <td>COUNT_PAST_HOME_LOANS</td>\n",
       "      <td>0.023513</td>\n",
       "    </tr>\n",
       "    <tr>\n",
       "      <th>22</th>\n",
       "      <td>COUNT_PAST_HOME_LOANS</td>\n",
       "      <td>0.023513</td>\n",
       "    </tr>\n",
       "    <tr>\n",
       "      <th>18</th>\n",
       "      <td>COUNT_PAST_HOME_LOANS</td>\n",
       "      <td>0.023513</td>\n",
       "    </tr>\n",
       "    <tr>\n",
       "      <th>40</th>\n",
       "      <td>pos_cash_balance_CNT_INSTALMENT_mean</td>\n",
       "      <td>0.021279</td>\n",
       "    </tr>\n",
       "    <tr>\n",
       "      <th>0</th>\n",
       "      <td>CNT_CHILDREN</td>\n",
       "      <td>0.019187</td>\n",
       "    </tr>\n",
       "    <tr>\n",
       "      <th>36</th>\n",
       "      <td>previous_application_NFLAG_LAST_APPL_IN_DAY_mean</td>\n",
       "      <td>0.017974</td>\n",
       "    </tr>\n",
       "    <tr>\n",
       "      <th>10</th>\n",
       "      <td>ANNUITY_INCOME_PERCENT</td>\n",
       "      <td>0.014269</td>\n",
       "    </tr>\n",
       "    <tr>\n",
       "      <th>9</th>\n",
       "      <td>ANNUITY_AMT_CREDIT_PERCENT</td>\n",
       "      <td>0.012702</td>\n",
       "    </tr>\n",
       "    <tr>\n",
       "      <th>5</th>\n",
       "      <td>CNT_FAM_MEMBERS</td>\n",
       "      <td>0.009310</td>\n",
       "    </tr>\n",
       "    <tr>\n",
       "      <th>25</th>\n",
       "      <td>bureau_CREDIT_DAY_OVERDUE_mean</td>\n",
       "      <td>0.006899</td>\n",
       "    </tr>\n",
       "    <tr>\n",
       "      <th>43</th>\n",
       "      <td>pos_cash_balance_SK_DPD_DEF_mean</td>\n",
       "      <td>0.006385</td>\n",
       "    </tr>\n",
       "    <tr>\n",
       "      <th>30</th>\n",
       "      <td>bureau_AMT_CREDIT_SUM_OVERDUE_mean</td>\n",
       "      <td>0.006380</td>\n",
       "    </tr>\n",
       "    <tr>\n",
       "      <th>42</th>\n",
       "      <td>pos_cash_balance_SK_DPD_mean</td>\n",
       "      <td>0.005527</td>\n",
       "    </tr>\n",
       "    <tr>\n",
       "      <th>27</th>\n",
       "      <td>bureau_CNT_CREDIT_PROLONG_mean</td>\n",
       "      <td>0.001362</td>\n",
       "    </tr>\n",
       "    <tr>\n",
       "      <th>37</th>\n",
       "      <td>previous_application_SELLERPLACE_AREA_mean</td>\n",
       "      <td>-0.002218</td>\n",
       "    </tr>\n",
       "    <tr>\n",
       "      <th>14</th>\n",
       "      <td>INCOME_AFTER_ANNUITY</td>\n",
       "      <td>-0.003230</td>\n",
       "    </tr>\n",
       "    <tr>\n",
       "      <th>29</th>\n",
       "      <td>bureau_AMT_CREDIT_SUM_DEBT_mean</td>\n",
       "      <td>-0.003742</td>\n",
       "    </tr>\n",
       "    <tr>\n",
       "      <th>1</th>\n",
       "      <td>AMT_INCOME_TOTAL</td>\n",
       "      <td>-0.003982</td>\n",
       "    </tr>\n",
       "    <tr>\n",
       "      <th>15</th>\n",
       "      <td>NET_INCOME_PER_FAMILY_HEAD_AFTER_ANNUITY</td>\n",
       "      <td>-0.005973</td>\n",
       "    </tr>\n",
       "    <tr>\n",
       "      <th>16</th>\n",
       "      <td>COUNT_PAST_LOANS</td>\n",
       "      <td>-0.010020</td>\n",
       "    </tr>\n",
       "    <tr>\n",
       "      <th>35</th>\n",
       "      <td>previous_application_AMT_GOODS_PRICE_mean</td>\n",
       "      <td>-0.010598</td>\n",
       "    </tr>\n",
       "    <tr>\n",
       "      <th>34</th>\n",
       "      <td>previous_application_AMT_CREDIT_mean</td>\n",
       "      <td>-0.011089</td>\n",
       "    </tr>\n",
       "    <tr>\n",
       "      <th>3</th>\n",
       "      <td>AMT_ANNUITY</td>\n",
       "      <td>-0.012816</td>\n",
       "    </tr>\n",
       "    <tr>\n",
       "      <th>46</th>\n",
       "      <td>installments_payments_AMT_INSTALMENT_mean</td>\n",
       "      <td>-0.014603</td>\n",
       "    </tr>\n",
       "    <tr>\n",
       "      <th>20</th>\n",
       "      <td>COUNT_CREDIT_SALE</td>\n",
       "      <td>-0.014899</td>\n",
       "    </tr>\n",
       "    <tr>\n",
       "      <th>21</th>\n",
       "      <td>COUNT_PAST_INSTALLMENT</td>\n",
       "      <td>-0.016310</td>\n",
       "    </tr>\n",
       "    <tr>\n",
       "      <th>33</th>\n",
       "      <td>previous_application_AMT_APPLICATION_mean</td>\n",
       "      <td>-0.016618</td>\n",
       "    </tr>\n",
       "    <tr>\n",
       "      <th>47</th>\n",
       "      <td>installments_payments_AMT_PAYMENT_mean</td>\n",
       "      <td>-0.019393</td>\n",
       "    </tr>\n",
       "    <tr>\n",
       "      <th>28</th>\n",
       "      <td>bureau_AMT_CREDIT_SUM_mean</td>\n",
       "      <td>-0.022758</td>\n",
       "    </tr>\n",
       "    <tr>\n",
       "      <th>32</th>\n",
       "      <td>previous_application_AMT_ANNUITY_mean</td>\n",
       "      <td>-0.026242</td>\n",
       "    </tr>\n",
       "    <tr>\n",
       "      <th>19</th>\n",
       "      <td>COUNT_POS_SALE</td>\n",
       "      <td>-0.029678</td>\n",
       "    </tr>\n",
       "    <tr>\n",
       "      <th>2</th>\n",
       "      <td>AMT_CREDIT</td>\n",
       "      <td>-0.030369</td>\n",
       "    </tr>\n",
       "    <tr>\n",
       "      <th>11</th>\n",
       "      <td>CREDIT_TERM</td>\n",
       "      <td>-0.032098</td>\n",
       "    </tr>\n",
       "    <tr>\n",
       "      <th>4</th>\n",
       "      <td>AMT_GOODS_PRICE</td>\n",
       "      <td>-0.039618</td>\n",
       "    </tr>\n",
       "    <tr>\n",
       "      <th>8</th>\n",
       "      <td>ACCOUNT_SENIORITY</td>\n",
       "      <td>-0.041972</td>\n",
       "    </tr>\n",
       "    <tr>\n",
       "      <th>7</th>\n",
       "      <td>PRO_SENIORITY</td>\n",
       "      <td>-0.043954</td>\n",
       "    </tr>\n",
       "    <tr>\n",
       "      <th>13</th>\n",
       "      <td>GOODS_LOAN_PERCENT</td>\n",
       "      <td>-0.065377</td>\n",
       "    </tr>\n",
       "    <tr>\n",
       "      <th>6</th>\n",
       "      <td>AGE</td>\n",
       "      <td>-0.078237</td>\n",
       "    </tr>\n",
       "    <tr>\n",
       "      <th>12</th>\n",
       "      <td>AGE_LOAN_FINISH</td>\n",
       "      <td>-0.079203</td>\n",
       "    </tr>\n",
       "  </tbody>\n",
       "</table>\n",
       "</div>"
      ],
      "text/plain": [
       "                                               index         0\n",
       "24                           bureau_DAYS_CREDIT_mean  0.083960\n",
       "31                    bureau_DAYS_CREDIT_UPDATE_mean  0.069687\n",
       "26                   bureau_DAYS_CREDIT_ENDDATE_mean  0.039813\n",
       "45     installments_payments_DAYS_ENTRY_PAYMENT_mean  0.034770\n",
       "44        installments_payments_DAYS_INSTALMENT_mean  0.034460\n",
       "38             previous_application_CNT_PAYMENT_mean  0.032248\n",
       "41       pos_cash_balance_CNT_INSTALMENT_FUTURE_mean  0.029791\n",
       "39              pos_cash_balance_MONTHS_BALANCE_mean  0.026813\n",
       "17                             COUNT_PAST_HOME_LOANS  0.023513\n",
       "23                             COUNT_PAST_HOME_LOANS  0.023513\n",
       "22                             COUNT_PAST_HOME_LOANS  0.023513\n",
       "18                             COUNT_PAST_HOME_LOANS  0.023513\n",
       "40              pos_cash_balance_CNT_INSTALMENT_mean  0.021279\n",
       "0                                       CNT_CHILDREN  0.019187\n",
       "36  previous_application_NFLAG_LAST_APPL_IN_DAY_mean  0.017974\n",
       "10                            ANNUITY_INCOME_PERCENT  0.014269\n",
       "9                         ANNUITY_AMT_CREDIT_PERCENT  0.012702\n",
       "5                                    CNT_FAM_MEMBERS  0.009310\n",
       "25                    bureau_CREDIT_DAY_OVERDUE_mean  0.006899\n",
       "43                  pos_cash_balance_SK_DPD_DEF_mean  0.006385\n",
       "30                bureau_AMT_CREDIT_SUM_OVERDUE_mean  0.006380\n",
       "42                      pos_cash_balance_SK_DPD_mean  0.005527\n",
       "27                    bureau_CNT_CREDIT_PROLONG_mean  0.001362\n",
       "37        previous_application_SELLERPLACE_AREA_mean -0.002218\n",
       "14                              INCOME_AFTER_ANNUITY -0.003230\n",
       "29                   bureau_AMT_CREDIT_SUM_DEBT_mean -0.003742\n",
       "1                                   AMT_INCOME_TOTAL -0.003982\n",
       "15          NET_INCOME_PER_FAMILY_HEAD_AFTER_ANNUITY -0.005973\n",
       "16                                  COUNT_PAST_LOANS -0.010020\n",
       "35         previous_application_AMT_GOODS_PRICE_mean -0.010598\n",
       "34              previous_application_AMT_CREDIT_mean -0.011089\n",
       "3                                        AMT_ANNUITY -0.012816\n",
       "46         installments_payments_AMT_INSTALMENT_mean -0.014603\n",
       "20                                 COUNT_CREDIT_SALE -0.014899\n",
       "21                            COUNT_PAST_INSTALLMENT -0.016310\n",
       "33         previous_application_AMT_APPLICATION_mean -0.016618\n",
       "47            installments_payments_AMT_PAYMENT_mean -0.019393\n",
       "28                        bureau_AMT_CREDIT_SUM_mean -0.022758\n",
       "32             previous_application_AMT_ANNUITY_mean -0.026242\n",
       "19                                    COUNT_POS_SALE -0.029678\n",
       "2                                         AMT_CREDIT -0.030369\n",
       "11                                       CREDIT_TERM -0.032098\n",
       "4                                    AMT_GOODS_PRICE -0.039618\n",
       "8                                  ACCOUNT_SENIORITY -0.041972\n",
       "7                                      PRO_SENIORITY -0.043954\n",
       "13                                GOODS_LOAN_PERCENT -0.065377\n",
       "6                                                AGE -0.078237\n",
       "12                                   AGE_LOAN_FINISH -0.079203"
      ]
     },
     "execution_count": 245,
     "metadata": {},
     "output_type": "execute_result"
    }
   ],
   "source": [
    "cols=df_train.select_dtypes(exclude=['object']).columns.tolist()\n",
    "cols=[col for col in cols if col not in ['TARGET','SK_ID_CURR']]\n",
    "#test=df_train.corr()[['TARGET']].reset_index().sort_values(by='TARGET',ascending=False)\n",
    "#test=df_train['TARGET'].corr(df_train[cols])\n",
    "test=df_train[cols].corrwith(df_train[\"TARGET\"]).reset_index()\\\n",
    ".sort_values(ascending=False,by=0)\n",
    "test\n",
    "## variables différence moyenne globale et la moyenne par client"
   ]
  },
  {
   "cell_type": "markdown",
   "metadata": {},
   "source": [
    "### 1-4 <u>Analyse parrallèles des clients solvables et insolvables</u>"
   ]
  },
  {
   "cell_type": "code",
   "execution_count": 218,
   "metadata": {},
   "outputs": [],
   "source": [
    "df_train_default=df_train[df_train['TARGET']==1]\n",
    "df_train_solvable=df_train[df_train['TARGET']==0]\n"
   ]
  },
  {
   "cell_type": "markdown",
   "metadata": {},
   "source": [
    "* 24825 clients ont été en défaut de paiements, soit 8,07 % de l'échantillon total d'entrainement"
   ]
  },
  {
   "cell_type": "code",
   "execution_count": 219,
   "metadata": {},
   "outputs": [
    {
     "data": {
      "image/png": "[encoded data removed]",
      "text/plain": [
       "<Figure size 432x288 with 1 Axes>"
      ]
     },
     "metadata": {},
     "output_type": "display_data"
    },
    {
     "data": {
      "image/png": "[encoded data removed]",
      "text/plain": [
       "<Figure size 432x288 with 1 Axes>"
      ]
     },
     "metadata": {},
     "output_type": "display_data"
    }
   ],
   "source": [
    "import matplotlib.pyplot as plt\n",
    " \n",
    "df_train_default['NAME_CONTRACT_TYPE']\\\n",
    "     .value_counts(normalize=True)\\\n",
    "    .plot\\\n",
    "    .pie(autopct='%1.1f%%',\n",
    "         title='répartition des type de prêts des emprunteurs insolvables'\n",
    "        )\n",
    "plt.show()\n",
    "\n",
    "df_train_solvable['NAME_CONTRACT_TYPE']\\\n",
    "    .value_counts(normalize=True)\\\n",
    "    .plot\\\n",
    "    .pie(autopct='%1.1f%%',\n",
    "        title='répartition des type de prêts des emprunteurs solvables'\n",
    "        )\n",
    "plt.show()\n",
    " \n",
    " \n",
    " "
   ]
  },
  {
   "cell_type": "code",
   "execution_count": 220,
   "metadata": {},
   "outputs": [
    {
     "data": {
      "image/png": "[encoded data removed]",
      "text/plain": [
       "<Figure size 432x288 with 1 Axes>"
      ]
     },
     "metadata": {},
     "output_type": "display_data"
    },
    {
     "data": {
      "image/png": "[encoded data removed]",
      "text/plain": [
       "<Figure size 432x288 with 1 Axes>"
      ]
     },
     "metadata": {},
     "output_type": "display_data"
    }
   ],
   "source": [
    "df_train_default['CODE_GENDER']\\\n",
    "    .value_counts(normalize=True)\\\n",
    "    .plot\\\n",
    "    .pie(autopct='%1.1f%%')\n",
    "plt.show()\n",
    "\n",
    "df_train_solvable['CODE_GENDER']\\\n",
    "    .value_counts(normalize=True)\\\n",
    "    .plot\\\n",
    "    .pie(autopct='%1.1f%%')\n",
    "plt.show()\n",
    " "
   ]
  },
  {
   "cell_type": "code",
   "execution_count": 221,
   "metadata": {},
   "outputs": [
    {
     "data": {
      "image/png": "[encoded data removed]",
      "text/plain": [
       "<Figure size 432x288 with 1 Axes>"
      ]
     },
     "metadata": {},
     "output_type": "display_data"
    },
    {
     "data": {
      "image/png": "[encoded data removed]",
      "text/plain": [
       "<Figure size 432x288 with 1 Axes>"
      ]
     },
     "metadata": {},
     "output_type": "display_data"
    }
   ],
   "source": [
    "df_train_default['NAME_INCOME_TYPE']\\\n",
    "    .value_counts(normalize=True)\\\n",
    "    .sort_values(ascending=False)\\\n",
    "    .head(3)\\\n",
    "    .plot\\\n",
    "    .pie(autopct='%1.1f%%')\n",
    " \n",
    "plt.show()\n",
    "df_train_solvable['NAME_INCOME_TYPE']\\\n",
    "   .value_counts(normalize=True)\\\n",
    "    .sort_values(ascending=False)\\\n",
    "    .head(3)\\\n",
    "    .plot\\\n",
    "    .pie(autopct='%1.1f%%')\n",
    "plt.show()\n",
    " "
   ]
  },
  {
   "cell_type": "code",
   "execution_count": 222,
   "metadata": {},
   "outputs": [
    {
     "data": {
      "image/png": "[encoded data removed]",
      "text/plain": [
       "<Figure size 432x288 with 1 Axes>"
      ]
     },
     "metadata": {},
     "output_type": "display_data"
    },
    {
     "data": {
      "image/png": "[encoded data removed]",
      "text/plain": [
       "<Figure size 432x288 with 1 Axes>"
      ]
     },
     "metadata": {},
     "output_type": "display_data"
    }
   ],
   "source": [
    "df_train_default['NAME_HOUSING_TYPE']\\\n",
    "    .value_counts(normalize=True)\\\n",
    "    .sort_values(ascending=False)\\\n",
    "    .head(3)\\\n",
    "    .plot\\\n",
    "    .pie(autopct='%1.1f%%')\n",
    "plt.show()\n",
    "\n",
    "df_train_solvable['NAME_HOUSING_TYPE']\\\n",
    "    .value_counts(normalize=True)\\\n",
    "    .sort_values(ascending=False)\\\n",
    "    .head(3)\\\n",
    "    .plot\\\n",
    "    .pie(autopct='%1.1f%%')\n",
    "plt.show()\n",
    "\n",
    " "
   ]
  },
  {
   "cell_type": "code",
   "execution_count": 223,
   "metadata": {},
   "outputs": [
    {
     "data": {
      "image/png": "[encoded data removed]",
      "text/plain": [
       "<Figure size 432x288 with 1 Axes>"
      ]
     },
     "metadata": {},
     "output_type": "display_data"
    },
    {
     "data": {
      "image/png": "[encoded data removed]",
      "text/plain": [
       "<Figure size 432x288 with 1 Axes>"
      ]
     },
     "metadata": {},
     "output_type": "display_data"
    }
   ],
   "source": [
    "df_train_default['FLAG_OWN_CAR']\\\n",
    "    .value_counts(normalize=True)\\\n",
    "    .sort_values(ascending=False)\\\n",
    "    .head(3)\\\n",
    "    .plot\\\n",
    "    .pie(autopct='%1.1f%%')\n",
    "plt.show()\n",
    " \n",
    "df_train_solvable['FLAG_OWN_CAR']\\\n",
    "     .value_counts(normalize=True)\\\n",
    "    .sort_values(ascending=False)\\\n",
    "    .head(3)\\\n",
    "    .plot\\\n",
    "    .pie(autopct='%1.1f%%')\n",
    "plt.show()\n"
   ]
  },
  {
   "cell_type": "code",
   "execution_count": 224,
   "metadata": {},
   "outputs": [
    {
     "data": {
      "image/png": "[encoded data removed]",
      "text/plain": [
       "<Figure size 432x288 with 1 Axes>"
      ]
     },
     "metadata": {},
     "output_type": "display_data"
    },
    {
     "data": {
      "image/png": "[encoded data removed]",
      "text/plain": [
       "<Figure size 432x288 with 1 Axes>"
      ]
     },
     "metadata": {},
     "output_type": "display_data"
    }
   ],
   "source": [
    "df_train_default['NAME_FAMILY_STATUS']\\\n",
    "   .value_counts(normalize=True)\\\n",
    "    .sort_values(ascending=False)\\\n",
    "    .head(3)\\\n",
    "    .plot\\\n",
    "    .pie(autopct='%1.1f%%')\n",
    "plt.show()\n",
    " \n",
    "\n",
    "df_train_solvable['NAME_FAMILY_STATUS']\\\n",
    "    .value_counts(normalize=True)\\\n",
    "    .sort_values(ascending=False)\\\n",
    "    .head(3)\\\n",
    "    .plot\\\n",
    "    .pie(autopct='%1.1f%%')\n",
    "\n",
    "plt.show()"
   ]
  },
  {
   "cell_type": "code",
   "execution_count": 225,
   "metadata": {},
   "outputs": [
    {
     "data": {
      "image/png": "[encoded data removed]",
      "text/plain": [
       "<Figure size 432x288 with 1 Axes>"
      ]
     },
     "metadata": {},
     "output_type": "display_data"
    },
    {
     "data": {
      "image/png": "[encoded data removed]",
      "text/plain": [
       "<Figure size 432x288 with 1 Axes>"
      ]
     },
     "metadata": {},
     "output_type": "display_data"
    }
   ],
   "source": [
    "df_train_default['FLAG_OWN_REALTY']\\\n",
    "    .value_counts(normalize=True)\\\n",
    "    .plot\\\n",
    "    .pie(autopct='%1.1f%%')\n",
    "plt.show()\n",
    "\n",
    "df_train_solvable['FLAG_OWN_REALTY']\\\n",
    "    .value_counts(normalize=True)\\\n",
    "    .plot\\\n",
    "    .pie(autopct='%1.1f%%')\n",
    "plt.show()\n",
    "\n"
   ]
  },
  {
   "cell_type": "markdown",
   "metadata": {},
   "source": [
    "# Partie 2: Réduction dimensionnelle et étude de faisabilité de la classification"
   ]
  },
  {
   "cell_type": "markdown",
   "metadata": {},
   "source": [
    "### 1-1 <u>Normalisation des variables numériques et encodage des variables catégorielles</u>"
   ]
  },
  {
   "cell_type": "code",
   "execution_count": 226,
   "metadata": {},
   "outputs": [],
   "source": [
    "df_train_test=pd.concat([df_train,df_test])"
   ]
  },
  {
   "cell_type": "code",
   "execution_count": 227,
   "metadata": {},
   "outputs": [],
   "source": [
    "cols_to_normalize=df_train.select_dtypes(exclude = ['object']).columns.tolist()\n",
    "cols_to_normalize=[col for col in cols_to_normalize if col not in ['SK_ID_CURR','TARGET']]\n",
    "\n",
    "cols_to_encode=df_train.select_dtypes(include = ['object']).columns.tolist()\n",
    "\n",
    "\n",
    "\n"
   ]
  },
  {
   "cell_type": "code",
   "execution_count": 228,
   "metadata": {},
   "outputs": [],
   "source": [
    "df=df_train_test[['SK_ID_CURR','TARGET']+cols_to_normalize].copy()\n",
    "values_to_normalize=df[cols_to_normalize].values\n",
    "standardScaler=StandardScaler()\n",
    "\n",
    "df[cols_to_normalize] = standardScaler.fit_transform(values_to_normalize)"
   ]
  },
  {
   "cell_type": "code",
   "execution_count": 229,
   "metadata": {},
   "outputs": [
    {
     "name": "stderr",
     "output_type": "stream",
     "text": [
      "/home/amadou/anaconda3/lib/python3.7/site-packages/ipykernel_launcher.py:9: PerformanceWarning: DataFrame is highly fragmented.  This is usually the result of calling `frame.insert` many times, which has poor performance.  Consider joining all columns at once using pd.concat(axis=1) instead.  To get a de-fragmented frame, use `newframe = frame.copy()`\n",
      "  if __name__ == '__main__':\n"
     ]
    }
   ],
   "source": [
    "oneHotEncoder = OneHotEncoder(sparse=False)\n",
    "\n",
    " \n",
    "data= oneHotEncoder.fit_transform(df_train_test[cols_to_encode])\n",
    "new_cols= oneHotEncoder.get_feature_names_out().tolist()\n",
    "df_hot= pd.DataFrame(columns =new_cols,\n",
    "              data =data)\n",
    "for col in new_cols:\n",
    "    df[col]=df_hot[col]\n"
   ]
  },
  {
   "cell_type": "code",
   "execution_count": 230,
   "metadata": {},
   "outputs": [],
   "source": [
    "df.to_csv('data/normalized_data.csv',index=False)"
   ]
  },
  {
   "cell_type": "code",
   "execution_count": 231,
   "metadata": {},
   "outputs": [
    {
     "data": {
      "text/plain": [
       "['SK_ID_CURR',\n",
       " 'TARGET',\n",
       " 'CNT_CHILDREN',\n",
       " 'AMT_INCOME_TOTAL',\n",
       " 'AMT_CREDIT',\n",
       " 'AMT_ANNUITY',\n",
       " 'AMT_GOODS_PRICE',\n",
       " 'CNT_FAM_MEMBERS',\n",
       " 'AGE',\n",
       " 'PRO_SENIORITY',\n",
       " 'ACCOUNT_SENIORITY',\n",
       " 'ANNUITY_AMT_CREDIT_PERCENT',\n",
       " 'ANNUITY_INCOME_PERCENT',\n",
       " 'CREDIT_TERM',\n",
       " 'AGE_LOAN_FINISH',\n",
       " 'GOODS_LOAN_PERCENT',\n",
       " 'INCOME_AFTER_ANNUITY',\n",
       " 'NET_INCOME_PER_FAMILY_HEAD_AFTER_ANNUITY',\n",
       " 'COUNT_PAST_LOANS',\n",
       " 'COUNT_PAST_HOME_LOANS',\n",
       " 'COUNT_PAST_HOME_LOANS',\n",
       " 'COUNT_POS_SALE',\n",
       " 'COUNT_CREDIT_SALE',\n",
       " 'COUNT_PAST_INSTALLMENT',\n",
       " 'COUNT_PAST_HOME_LOANS',\n",
       " 'COUNT_PAST_HOME_LOANS',\n",
       " 'NAME_CONTRACT_TYPE_Cash loans',\n",
       " 'NAME_CONTRACT_TYPE_Revolving loans',\n",
       " 'CODE_GENDER_F',\n",
       " 'CODE_GENDER_M',\n",
       " 'CODE_GENDER_XNA',\n",
       " 'FLAG_OWN_CAR_N',\n",
       " 'FLAG_OWN_CAR_Y',\n",
       " 'FLAG_OWN_REALTY_N',\n",
       " 'FLAG_OWN_REALTY_Y',\n",
       " 'NAME_INCOME_TYPE_Businessman',\n",
       " 'NAME_INCOME_TYPE_Commercial associate',\n",
       " 'NAME_INCOME_TYPE_Maternity leave',\n",
       " 'NAME_INCOME_TYPE_Pensioner',\n",
       " 'NAME_INCOME_TYPE_State servant',\n",
       " 'NAME_INCOME_TYPE_Student',\n",
       " 'NAME_INCOME_TYPE_Unemployed',\n",
       " 'NAME_INCOME_TYPE_Working',\n",
       " 'NAME_EDUCATION_TYPE_Academic degree',\n",
       " 'NAME_EDUCATION_TYPE_Higher education',\n",
       " 'NAME_EDUCATION_TYPE_Incomplete higher',\n",
       " 'NAME_EDUCATION_TYPE_Lower secondary',\n",
       " 'NAME_EDUCATION_TYPE_Secondary / secondary special',\n",
       " 'NAME_FAMILY_STATUS_Civil marriage',\n",
       " 'NAME_FAMILY_STATUS_Married',\n",
       " 'NAME_FAMILY_STATUS_Separated',\n",
       " 'NAME_FAMILY_STATUS_Single / not married',\n",
       " 'NAME_FAMILY_STATUS_Unknown',\n",
       " 'NAME_FAMILY_STATUS_Widow',\n",
       " 'NAME_HOUSING_TYPE_Co-op apartment',\n",
       " 'NAME_HOUSING_TYPE_House / apartment',\n",
       " 'NAME_HOUSING_TYPE_Municipal apartment',\n",
       " 'NAME_HOUSING_TYPE_Office apartment',\n",
       " 'NAME_HOUSING_TYPE_Rented apartment',\n",
       " 'NAME_HOUSING_TYPE_With parents']"
      ]
     },
     "execution_count": 231,
     "metadata": {},
     "output_type": "execute_result"
    }
   ],
   "source": [
    "regex='bureau_|previous_application|installments_payments|frequent-bureau|frequent-previous|frequent-pos_cash|frequent-credit_card|pos_cash_balance'\n",
    "REGEX_COLS=[x for x in \n",
    "           df.columns[df\\\n",
    "                                 .columns.str.contains(regex)]\n",
    "          ]\n",
    "REGEX_COLS\n",
    "RELEVANT_COLS=[col for col in df.columns.tolist() if col not in REGEX_COLS]\n",
    "RELEVANT_COLS"
   ]
  },
  {
   "cell_type": "code",
   "execution_count": 232,
   "metadata": {},
   "outputs": [
    {
     "data": {
      "text/html": [
       "<div>\n",
       "<style scoped>\n",
       "    .dataframe tbody tr th:only-of-type {\n",
       "        vertical-align: middle;\n",
       "    }\n",
       "\n",
       "    .dataframe tbody tr th {\n",
       "        vertical-align: top;\n",
       "    }\n",
       "\n",
       "    .dataframe thead th {\n",
       "        text-align: right;\n",
       "    }\n",
       "</style>\n",
       "<table border=\"1\" class=\"dataframe\">\n",
       "  <thead>\n",
       "    <tr style=\"text-align: right;\">\n",
       "      <th></th>\n",
       "      <th>SK_ID_CURR</th>\n",
       "      <th>TARGET</th>\n",
       "      <th>CNT_CHILDREN</th>\n",
       "      <th>AMT_INCOME_TOTAL</th>\n",
       "      <th>AMT_CREDIT</th>\n",
       "      <th>AMT_ANNUITY</th>\n",
       "      <th>AMT_GOODS_PRICE</th>\n",
       "      <th>CNT_FAM_MEMBERS</th>\n",
       "      <th>AGE</th>\n",
       "      <th>PRO_SENIORITY</th>\n",
       "      <th>...</th>\n",
       "      <th>frequent-previous_application-NAME_YIELD_GROUP_middle</th>\n",
       "      <th>frequent-previous_application-NAME_YIELD_GROUP_nan</th>\n",
       "      <th>frequent-pos_cash_balance-NAME_CONTRACT_STATUS_Active</th>\n",
       "      <th>frequent-pos_cash_balance-NAME_CONTRACT_STATUS_Amortized debt</th>\n",
       "      <th>frequent-pos_cash_balance-NAME_CONTRACT_STATUS_Approved</th>\n",
       "      <th>frequent-pos_cash_balance-NAME_CONTRACT_STATUS_Completed</th>\n",
       "      <th>frequent-pos_cash_balance-NAME_CONTRACT_STATUS_Demand</th>\n",
       "      <th>frequent-pos_cash_balance-NAME_CONTRACT_STATUS_Returned to the store</th>\n",
       "      <th>frequent-pos_cash_balance-NAME_CONTRACT_STATUS_Signed</th>\n",
       "      <th>frequent-pos_cash_balance-NAME_CONTRACT_STATUS_nan</th>\n",
       "    </tr>\n",
       "  </thead>\n",
       "  <tbody>\n",
       "    <tr>\n",
       "      <th>0</th>\n",
       "      <td>100002</td>\n",
       "      <td>1.0</td>\n",
       "      <td>-0.575137</td>\n",
       "      <td>0.144890</td>\n",
       "      <td>-0.454489</td>\n",
       "      <td>-0.184961</td>\n",
       "      <td>-0.483003</td>\n",
       "      <td>-1.268646</td>\n",
       "      <td>-1.544742</td>\n",
       "      <td>-0.591386</td>\n",
       "      <td>...</td>\n",
       "      <td>0.0</td>\n",
       "      <td>0.0</td>\n",
       "      <td>1.0</td>\n",
       "      <td>0.0</td>\n",
       "      <td>0.0</td>\n",
       "      <td>0.0</td>\n",
       "      <td>0.0</td>\n",
       "      <td>0.0</td>\n",
       "      <td>0.0</td>\n",
       "      <td>0.0</td>\n",
       "    </tr>\n",
       "    <tr>\n",
       "      <th>1</th>\n",
       "      <td>100003</td>\n",
       "      <td>0.0</td>\n",
       "      <td>-0.575137</td>\n",
       "      <td>0.446895</td>\n",
       "      <td>1.770432</td>\n",
       "      <td>0.561551</td>\n",
       "      <td>1.643812</td>\n",
       "      <td>-0.167249</td>\n",
       "      <td>0.130185</td>\n",
       "      <td>-0.278968</td>\n",
       "      <td>...</td>\n",
       "      <td>1.0</td>\n",
       "      <td>0.0</td>\n",
       "      <td>1.0</td>\n",
       "      <td>0.0</td>\n",
       "      <td>0.0</td>\n",
       "      <td>0.0</td>\n",
       "      <td>0.0</td>\n",
       "      <td>0.0</td>\n",
       "      <td>0.0</td>\n",
       "      <td>0.0</td>\n",
       "    </tr>\n",
       "    <tr>\n",
       "      <th>2</th>\n",
       "      <td>100004</td>\n",
       "      <td>0.0</td>\n",
       "      <td>-0.575137</td>\n",
       "      <td>-0.459119</td>\n",
       "      <td>-1.135828</td>\n",
       "      <td>-1.403389</td>\n",
       "      <td>-1.073101</td>\n",
       "      <td>-1.268646</td>\n",
       "      <td>0.716409</td>\n",
       "      <td>-0.747595</td>\n",
       "      <td>...</td>\n",
       "      <td>1.0</td>\n",
       "      <td>0.0</td>\n",
       "      <td>1.0</td>\n",
       "      <td>0.0</td>\n",
       "      <td>0.0</td>\n",
       "      <td>0.0</td>\n",
       "      <td>0.0</td>\n",
       "      <td>0.0</td>\n",
       "      <td>0.0</td>\n",
       "      <td>0.0</td>\n",
       "    </tr>\n",
       "    <tr>\n",
       "      <th>3</th>\n",
       "      <td>100006</td>\n",
       "      <td>0.0</td>\n",
       "      <td>-0.575137</td>\n",
       "      <td>-0.157114</td>\n",
       "      <td>-0.690088</td>\n",
       "      <td>0.153474</td>\n",
       "      <td>-0.630527</td>\n",
       "      <td>-0.167249</td>\n",
       "      <td>0.716409</td>\n",
       "      <td>0.502077</td>\n",
       "      <td>...</td>\n",
       "      <td>0.0</td>\n",
       "      <td>0.0</td>\n",
       "      <td>1.0</td>\n",
       "      <td>0.0</td>\n",
       "      <td>0.0</td>\n",
       "      <td>0.0</td>\n",
       "      <td>0.0</td>\n",
       "      <td>0.0</td>\n",
       "      <td>0.0</td>\n",
       "      <td>0.0</td>\n",
       "    </tr>\n",
       "    <tr>\n",
       "      <th>4</th>\n",
       "      <td>100007</td>\n",
       "      <td>0.0</td>\n",
       "      <td>-0.575137</td>\n",
       "      <td>-0.217515</td>\n",
       "      <td>-0.187564</td>\n",
       "      <td>-0.377393</td>\n",
       "      <td>-0.040428</td>\n",
       "      <td>-1.268646</td>\n",
       "      <td>0.883902</td>\n",
       "      <td>0.502077</td>\n",
       "      <td>...</td>\n",
       "      <td>0.0</td>\n",
       "      <td>0.0</td>\n",
       "      <td>1.0</td>\n",
       "      <td>0.0</td>\n",
       "      <td>0.0</td>\n",
       "      <td>0.0</td>\n",
       "      <td>0.0</td>\n",
       "      <td>0.0</td>\n",
       "      <td>0.0</td>\n",
       "      <td>0.0</td>\n",
       "    </tr>\n",
       "    <tr>\n",
       "      <th>...</th>\n",
       "      <td>...</td>\n",
       "      <td>...</td>\n",
       "      <td>...</td>\n",
       "      <td>...</td>\n",
       "      <td>...</td>\n",
       "      <td>...</td>\n",
       "      <td>...</td>\n",
       "      <td>...</td>\n",
       "      <td>...</td>\n",
       "      <td>...</td>\n",
       "      <td>...</td>\n",
       "      <td>...</td>\n",
       "      <td>...</td>\n",
       "      <td>...</td>\n",
       "      <td>...</td>\n",
       "      <td>...</td>\n",
       "      <td>...</td>\n",
       "      <td>...</td>\n",
       "      <td>...</td>\n",
       "      <td>...</td>\n",
       "      <td>...</td>\n",
       "    </tr>\n",
       "    <tr>\n",
       "      <th>48739</th>\n",
       "      <td>456221</td>\n",
       "      <td>NaN</td>\n",
       "      <td>-0.575137</td>\n",
       "      <td>-0.217515</td>\n",
       "      <td>-0.439531</td>\n",
       "      <td>-0.675509</td>\n",
       "      <td>-0.704290</td>\n",
       "      <td>-1.268646</td>\n",
       "      <td>0.883902</td>\n",
       "      <td>1.439330</td>\n",
       "      <td>...</td>\n",
       "      <td>0.0</td>\n",
       "      <td>0.0</td>\n",
       "      <td>1.0</td>\n",
       "      <td>0.0</td>\n",
       "      <td>0.0</td>\n",
       "      <td>0.0</td>\n",
       "      <td>0.0</td>\n",
       "      <td>0.0</td>\n",
       "      <td>0.0</td>\n",
       "      <td>0.0</td>\n",
       "    </tr>\n",
       "    <tr>\n",
       "      <th>48740</th>\n",
       "      <td>456222</td>\n",
       "      <td>NaN</td>\n",
       "      <td>2.201186</td>\n",
       "      <td>-0.056446</td>\n",
       "      <td>0.086913</td>\n",
       "      <td>0.304365</td>\n",
       "      <td>-0.089603</td>\n",
       "      <td>2.035545</td>\n",
       "      <td>-1.126010</td>\n",
       "      <td>-0.278968</td>\n",
       "      <td>...</td>\n",
       "      <td>0.0</td>\n",
       "      <td>0.0</td>\n",
       "      <td>1.0</td>\n",
       "      <td>0.0</td>\n",
       "      <td>0.0</td>\n",
       "      <td>0.0</td>\n",
       "      <td>0.0</td>\n",
       "      <td>0.0</td>\n",
       "      <td>0.0</td>\n",
       "      <td>0.0</td>\n",
       "    </tr>\n",
       "    <tr>\n",
       "      <th>48741</th>\n",
       "      <td>456223</td>\n",
       "      <td>NaN</td>\n",
       "      <td>0.813025</td>\n",
       "      <td>0.144890</td>\n",
       "      <td>-0.684274</td>\n",
       "      <td>0.392333</td>\n",
       "      <td>-0.581352</td>\n",
       "      <td>0.934148</td>\n",
       "      <td>-0.037308</td>\n",
       "      <td>0.502077</td>\n",
       "      <td>...</td>\n",
       "      <td>0.0</td>\n",
       "      <td>0.0</td>\n",
       "      <td>1.0</td>\n",
       "      <td>0.0</td>\n",
       "      <td>0.0</td>\n",
       "      <td>0.0</td>\n",
       "      <td>0.0</td>\n",
       "      <td>0.0</td>\n",
       "      <td>0.0</td>\n",
       "      <td>0.0</td>\n",
       "    </tr>\n",
       "    <tr>\n",
       "      <th>48742</th>\n",
       "      <td>456224</td>\n",
       "      <td>NaN</td>\n",
       "      <td>-0.575137</td>\n",
       "      <td>0.245559</td>\n",
       "      <td>-0.345608</td>\n",
       "      <td>-0.155944</td>\n",
       "      <td>-0.212541</td>\n",
       "      <td>-0.167249</td>\n",
       "      <td>-0.456040</td>\n",
       "      <td>0.345868</td>\n",
       "      <td>...</td>\n",
       "      <td>0.0</td>\n",
       "      <td>0.0</td>\n",
       "      <td>1.0</td>\n",
       "      <td>0.0</td>\n",
       "      <td>0.0</td>\n",
       "      <td>0.0</td>\n",
       "      <td>0.0</td>\n",
       "      <td>0.0</td>\n",
       "      <td>0.0</td>\n",
       "      <td>0.0</td>\n",
       "    </tr>\n",
       "    <tr>\n",
       "      <th>48743</th>\n",
       "      <td>456250</td>\n",
       "      <td>NaN</td>\n",
       "      <td>-0.575137</td>\n",
       "      <td>-0.157114</td>\n",
       "      <td>-0.689873</td>\n",
       "      <td>-0.184350</td>\n",
       "      <td>-0.704290</td>\n",
       "      <td>-0.167249</td>\n",
       "      <td>-0.456040</td>\n",
       "      <td>-0.591386</td>\n",
       "      <td>...</td>\n",
       "      <td>0.0</td>\n",
       "      <td>0.0</td>\n",
       "      <td>1.0</td>\n",
       "      <td>0.0</td>\n",
       "      <td>0.0</td>\n",
       "      <td>0.0</td>\n",
       "      <td>0.0</td>\n",
       "      <td>0.0</td>\n",
       "      <td>0.0</td>\n",
       "      <td>0.0</td>\n",
       "    </tr>\n",
       "  </tbody>\n",
       "</table>\n",
       "<p>356255 rows × 155 columns</p>\n",
       "</div>"
      ],
      "text/plain": [
       "       SK_ID_CURR  TARGET  CNT_CHILDREN  AMT_INCOME_TOTAL  AMT_CREDIT  \\\n",
       "0          100002     1.0     -0.575137          0.144890   -0.454489   \n",
       "1          100003     0.0     -0.575137          0.446895    1.770432   \n",
       "2          100004     0.0     -0.575137         -0.459119   -1.135828   \n",
       "3          100006     0.0     -0.575137         -0.157114   -0.690088   \n",
       "4          100007     0.0     -0.575137         -0.217515   -0.187564   \n",
       "...           ...     ...           ...               ...         ...   \n",
       "48739      456221     NaN     -0.575137         -0.217515   -0.439531   \n",
       "48740      456222     NaN      2.201186         -0.056446    0.086913   \n",
       "48741      456223     NaN      0.813025          0.144890   -0.684274   \n",
       "48742      456224     NaN     -0.575137          0.245559   -0.345608   \n",
       "48743      456250     NaN     -0.575137         -0.157114   -0.689873   \n",
       "\n",
       "       AMT_ANNUITY  AMT_GOODS_PRICE  CNT_FAM_MEMBERS       AGE  PRO_SENIORITY  \\\n",
       "0        -0.184961        -0.483003        -1.268646 -1.544742      -0.591386   \n",
       "1         0.561551         1.643812        -0.167249  0.130185      -0.278968   \n",
       "2        -1.403389        -1.073101        -1.268646  0.716409      -0.747595   \n",
       "3         0.153474        -0.630527        -0.167249  0.716409       0.502077   \n",
       "4        -0.377393        -0.040428        -1.268646  0.883902       0.502077   \n",
       "...            ...              ...              ...       ...            ...   \n",
       "48739    -0.675509        -0.704290        -1.268646  0.883902       1.439330   \n",
       "48740     0.304365        -0.089603         2.035545 -1.126010      -0.278968   \n",
       "48741     0.392333        -0.581352         0.934148 -0.037308       0.502077   \n",
       "48742    -0.155944        -0.212541        -0.167249 -0.456040       0.345868   \n",
       "48743    -0.184350        -0.704290        -0.167249 -0.456040      -0.591386   \n",
       "\n",
       "       ...  frequent-previous_application-NAME_YIELD_GROUP_middle  \\\n",
       "0      ...                                                    0.0   \n",
       "1      ...                                                    1.0   \n",
       "2      ...                                                    1.0   \n",
       "3      ...                                                    0.0   \n",
       "4      ...                                                    0.0   \n",
       "...    ...                                                    ...   \n",
       "48739  ...                                                    0.0   \n",
       "48740  ...                                                    0.0   \n",
       "48741  ...                                                    0.0   \n",
       "48742  ...                                                    0.0   \n",
       "48743  ...                                                    0.0   \n",
       "\n",
       "       frequent-previous_application-NAME_YIELD_GROUP_nan  \\\n",
       "0                                                     0.0   \n",
       "1                                                     0.0   \n",
       "2                                                     0.0   \n",
       "3                                                     0.0   \n",
       "4                                                     0.0   \n",
       "...                                                   ...   \n",
       "48739                                                 0.0   \n",
       "48740                                                 0.0   \n",
       "48741                                                 0.0   \n",
       "48742                                                 0.0   \n",
       "48743                                                 0.0   \n",
       "\n",
       "       frequent-pos_cash_balance-NAME_CONTRACT_STATUS_Active  \\\n",
       "0                                                        1.0   \n",
       "1                                                        1.0   \n",
       "2                                                        1.0   \n",
       "3                                                        1.0   \n",
       "4                                                        1.0   \n",
       "...                                                      ...   \n",
       "48739                                                    1.0   \n",
       "48740                                                    1.0   \n",
       "48741                                                    1.0   \n",
       "48742                                                    1.0   \n",
       "48743                                                    1.0   \n",
       "\n",
       "       frequent-pos_cash_balance-NAME_CONTRACT_STATUS_Amortized debt  \\\n",
       "0                                                                0.0   \n",
       "1                                                                0.0   \n",
       "2                                                                0.0   \n",
       "3                                                                0.0   \n",
       "4                                                                0.0   \n",
       "...                                                              ...   \n",
       "48739                                                            0.0   \n",
       "48740                                                            0.0   \n",
       "48741                                                            0.0   \n",
       "48742                                                            0.0   \n",
       "48743                                                            0.0   \n",
       "\n",
       "       frequent-pos_cash_balance-NAME_CONTRACT_STATUS_Approved  \\\n",
       "0                                                          0.0   \n",
       "1                                                          0.0   \n",
       "2                                                          0.0   \n",
       "3                                                          0.0   \n",
       "4                                                          0.0   \n",
       "...                                                        ...   \n",
       "48739                                                      0.0   \n",
       "48740                                                      0.0   \n",
       "48741                                                      0.0   \n",
       "48742                                                      0.0   \n",
       "48743                                                      0.0   \n",
       "\n",
       "       frequent-pos_cash_balance-NAME_CONTRACT_STATUS_Completed  \\\n",
       "0                                                           0.0   \n",
       "1                                                           0.0   \n",
       "2                                                           0.0   \n",
       "3                                                           0.0   \n",
       "4                                                           0.0   \n",
       "...                                                         ...   \n",
       "48739                                                       0.0   \n",
       "48740                                                       0.0   \n",
       "48741                                                       0.0   \n",
       "48742                                                       0.0   \n",
       "48743                                                       0.0   \n",
       "\n",
       "       frequent-pos_cash_balance-NAME_CONTRACT_STATUS_Demand  \\\n",
       "0                                                        0.0   \n",
       "1                                                        0.0   \n",
       "2                                                        0.0   \n",
       "3                                                        0.0   \n",
       "4                                                        0.0   \n",
       "...                                                      ...   \n",
       "48739                                                    0.0   \n",
       "48740                                                    0.0   \n",
       "48741                                                    0.0   \n",
       "48742                                                    0.0   \n",
       "48743                                                    0.0   \n",
       "\n",
       "       frequent-pos_cash_balance-NAME_CONTRACT_STATUS_Returned to the store  \\\n",
       "0                                                                       0.0   \n",
       "1                                                                       0.0   \n",
       "2                                                                       0.0   \n",
       "3                                                                       0.0   \n",
       "4                                                                       0.0   \n",
       "...                                                                     ...   \n",
       "48739                                                                   0.0   \n",
       "48740                                                                   0.0   \n",
       "48741                                                                   0.0   \n",
       "48742                                                                   0.0   \n",
       "48743                                                                   0.0   \n",
       "\n",
       "       frequent-pos_cash_balance-NAME_CONTRACT_STATUS_Signed  \\\n",
       "0                                                        0.0   \n",
       "1                                                        0.0   \n",
       "2                                                        0.0   \n",
       "3                                                        0.0   \n",
       "4                                                        0.0   \n",
       "...                                                      ...   \n",
       "48739                                                    0.0   \n",
       "48740                                                    0.0   \n",
       "48741                                                    0.0   \n",
       "48742                                                    0.0   \n",
       "48743                                                    0.0   \n",
       "\n",
       "       frequent-pos_cash_balance-NAME_CONTRACT_STATUS_nan  \n",
       "0                                                     0.0  \n",
       "1                                                     0.0  \n",
       "2                                                     0.0  \n",
       "3                                                     0.0  \n",
       "4                                                     0.0  \n",
       "...                                                   ...  \n",
       "48739                                                 0.0  \n",
       "48740                                                 0.0  \n",
       "48741                                                 0.0  \n",
       "48742                                                 0.0  \n",
       "48743                                                 0.0  \n",
       "\n",
       "[356255 rows x 155 columns]"
      ]
     },
     "execution_count": 232,
     "metadata": {},
     "output_type": "execute_result"
    }
   ],
   "source": [
    "#df=df[RELEVANT_COLS]\n",
    "df"
   ]
  },
  {
   "cell_type": "code",
   "execution_count": 248,
   "metadata": {},
   "outputs": [
    {
     "data": {
      "text/plain": [
       "153"
      ]
     },
     "execution_count": 248,
     "metadata": {},
     "output_type": "execute_result"
    }
   ],
   "source": [
    "len(features)"
   ]
  },
  {
   "cell_type": "code",
   "execution_count": 233,
   "metadata": {},
   "outputs": [
    {
     "data": {
      "image/png": "[encoded data removed]",
      "text/plain": [
       "<Figure size 432x288 with 1 Axes>"
      ]
     },
     "metadata": {
      "needs_background": "light"
     },
     "output_type": "display_data"
    },
    {
     "data": {
      "text/plain": [
       "array([0.2631882 , 0.34436672, 0.40251747, 0.45188347, 0.4946964 ,\n",
       "       0.53517561, 0.56523637, 0.59349646, 0.61780094, 0.64057364,\n",
       "       0.66128958, 0.67951164, 0.69751337, 0.71396688, 0.73005421,\n",
       "       0.74545648, 0.76052929, 0.77507054, 0.78939678, 0.80361728,\n",
       "       0.8163223 , 0.828762  , 0.84059639, 0.85188375, 0.86292415,\n",
       "       0.87296205, 0.88195389, 0.89016888, 0.89720365, 0.90321684])"
      ]
     },
     "execution_count": 233,
     "metadata": {},
     "output_type": "execute_result"
    }
   ],
   "source": [
    "features = [col for col in df.columns.tolist() if col not in ['SK_ID_CURR','TARGET']]\n",
    "data=df[features].values\n",
    "pca=PCA(0.90)\n",
    "pca.fit(data)\n",
    "# Eboulis des valeurs propres\n",
    "utils2.display_scree_plot(pca)\n",
    "\n",
    "\n",
    "pca.explained_variance_ratio_.cumsum()"
   ]
  },
  {
   "cell_type": "code",
   "execution_count": 234,
   "metadata": {},
   "outputs": [
    {
     "data": {
      "text/html": [
       "<div>\n",
       "<style scoped>\n",
       "    .dataframe tbody tr th:only-of-type {\n",
       "        vertical-align: middle;\n",
       "    }\n",
       "\n",
       "    .dataframe tbody tr th {\n",
       "        vertical-align: top;\n",
       "    }\n",
       "\n",
       "    .dataframe thead th {\n",
       "        text-align: right;\n",
       "    }\n",
       "</style>\n",
       "<table border=\"1\" class=\"dataframe\">\n",
       "  <thead>\n",
       "    <tr style=\"text-align: right;\">\n",
       "      <th></th>\n",
       "      <th>pca_0</th>\n",
       "      <th>pca_1</th>\n",
       "      <th>pca_2</th>\n",
       "      <th>pca_3</th>\n",
       "      <th>pca_4</th>\n",
       "      <th>pca_5</th>\n",
       "      <th>pca_6</th>\n",
       "      <th>pca_7</th>\n",
       "      <th>pca_8</th>\n",
       "      <th>pca_9</th>\n",
       "      <th>...</th>\n",
       "      <th>pca_21</th>\n",
       "      <th>pca_22</th>\n",
       "      <th>pca_23</th>\n",
       "      <th>pca_24</th>\n",
       "      <th>pca_25</th>\n",
       "      <th>pca_26</th>\n",
       "      <th>pca_27</th>\n",
       "      <th>pca_28</th>\n",
       "      <th>pca_29</th>\n",
       "      <th>TARGET</th>\n",
       "    </tr>\n",
       "  </thead>\n",
       "  <tbody>\n",
       "    <tr>\n",
       "      <th>0</th>\n",
       "      <td>-3.289602</td>\n",
       "      <td>0.682378</td>\n",
       "      <td>-2.516198</td>\n",
       "      <td>-0.194621</td>\n",
       "      <td>0.440889</td>\n",
       "      <td>1.173184</td>\n",
       "      <td>0.185299</td>\n",
       "      <td>0.853802</td>\n",
       "      <td>1.279258</td>\n",
       "      <td>-0.307340</td>\n",
       "      <td>...</td>\n",
       "      <td>0.042378</td>\n",
       "      <td>-0.285269</td>\n",
       "      <td>0.471056</td>\n",
       "      <td>-0.201548</td>\n",
       "      <td>-0.976245</td>\n",
       "      <td>-0.066536</td>\n",
       "      <td>0.382285</td>\n",
       "      <td>-0.128684</td>\n",
       "      <td>-0.439406</td>\n",
       "      <td>1.0</td>\n",
       "    </tr>\n",
       "    <tr>\n",
       "      <th>1</th>\n",
       "      <td>-0.637048</td>\n",
       "      <td>5.467822</td>\n",
       "      <td>1.668006</td>\n",
       "      <td>0.116442</td>\n",
       "      <td>0.979841</td>\n",
       "      <td>-0.664324</td>\n",
       "      <td>-1.208354</td>\n",
       "      <td>-1.763571</td>\n",
       "      <td>-0.048712</td>\n",
       "      <td>1.492974</td>\n",
       "      <td>...</td>\n",
       "      <td>0.605597</td>\n",
       "      <td>-0.480158</td>\n",
       "      <td>0.071276</td>\n",
       "      <td>0.558058</td>\n",
       "      <td>0.821256</td>\n",
       "      <td>0.454951</td>\n",
       "      <td>-0.195640</td>\n",
       "      <td>-0.809032</td>\n",
       "      <td>1.015368</td>\n",
       "      <td>0.0</td>\n",
       "    </tr>\n",
       "    <tr>\n",
       "      <th>2</th>\n",
       "      <td>-4.300237</td>\n",
       "      <td>-1.953914</td>\n",
       "      <td>-0.527544</td>\n",
       "      <td>-0.687756</td>\n",
       "      <td>-0.812491</td>\n",
       "      <td>1.651664</td>\n",
       "      <td>-0.424124</td>\n",
       "      <td>-0.775658</td>\n",
       "      <td>0.243182</td>\n",
       "      <td>1.388916</td>\n",
       "      <td>...</td>\n",
       "      <td>0.228259</td>\n",
       "      <td>0.407452</td>\n",
       "      <td>-0.210403</td>\n",
       "      <td>0.190528</td>\n",
       "      <td>0.309339</td>\n",
       "      <td>-1.179552</td>\n",
       "      <td>0.145423</td>\n",
       "      <td>0.625465</td>\n",
       "      <td>-0.542566</td>\n",
       "      <td>0.0</td>\n",
       "    </tr>\n",
       "    <tr>\n",
       "      <th>3</th>\n",
       "      <td>4.307502</td>\n",
       "      <td>0.729648</td>\n",
       "      <td>-3.607555</td>\n",
       "      <td>0.716760</td>\n",
       "      <td>-1.101886</td>\n",
       "      <td>-0.032950</td>\n",
       "      <td>-0.028246</td>\n",
       "      <td>-2.745908</td>\n",
       "      <td>-0.208353</td>\n",
       "      <td>-0.483055</td>\n",
       "      <td>...</td>\n",
       "      <td>-0.076917</td>\n",
       "      <td>0.871824</td>\n",
       "      <td>-0.283186</td>\n",
       "      <td>-0.404473</td>\n",
       "      <td>-0.198968</td>\n",
       "      <td>0.466268</td>\n",
       "      <td>0.346880</td>\n",
       "      <td>0.063882</td>\n",
       "      <td>-0.197900</td>\n",
       "      <td>0.0</td>\n",
       "    </tr>\n",
       "    <tr>\n",
       "      <th>4</th>\n",
       "      <td>1.668164</td>\n",
       "      <td>0.084698</td>\n",
       "      <td>0.880126</td>\n",
       "      <td>-0.851195</td>\n",
       "      <td>-0.972251</td>\n",
       "      <td>1.445623</td>\n",
       "      <td>0.073299</td>\n",
       "      <td>-0.133891</td>\n",
       "      <td>0.113917</td>\n",
       "      <td>-0.147989</td>\n",
       "      <td>...</td>\n",
       "      <td>0.990197</td>\n",
       "      <td>0.372525</td>\n",
       "      <td>-0.465224</td>\n",
       "      <td>0.066850</td>\n",
       "      <td>1.385493</td>\n",
       "      <td>-0.159847</td>\n",
       "      <td>-1.291367</td>\n",
       "      <td>0.699323</td>\n",
       "      <td>-0.291344</td>\n",
       "      <td>0.0</td>\n",
       "    </tr>\n",
       "  </tbody>\n",
       "</table>\n",
       "<p>5 rows × 31 columns</p>\n",
       "</div>"
      ],
      "text/plain": [
       "      pca_0     pca_1     pca_2     pca_3     pca_4     pca_5     pca_6  \\\n",
       "0 -3.289602  0.682378 -2.516198 -0.194621  0.440889  1.173184  0.185299   \n",
       "1 -0.637048  5.467822  1.668006  0.116442  0.979841 -0.664324 -1.208354   \n",
       "2 -4.300237 -1.953914 -0.527544 -0.687756 -0.812491  1.651664 -0.424124   \n",
       "3  4.307502  0.729648 -3.607555  0.716760 -1.101886 -0.032950 -0.028246   \n",
       "4  1.668164  0.084698  0.880126 -0.851195 -0.972251  1.445623  0.073299   \n",
       "\n",
       "      pca_7     pca_8     pca_9  ...    pca_21    pca_22    pca_23    pca_24  \\\n",
       "0  0.853802  1.279258 -0.307340  ...  0.042378 -0.285269  0.471056 -0.201548   \n",
       "1 -1.763571 -0.048712  1.492974  ...  0.605597 -0.480158  0.071276  0.558058   \n",
       "2 -0.775658  0.243182  1.388916  ...  0.228259  0.407452 -0.210403  0.190528   \n",
       "3 -2.745908 -0.208353 -0.483055  ... -0.076917  0.871824 -0.283186 -0.404473   \n",
       "4 -0.133891  0.113917 -0.147989  ...  0.990197  0.372525 -0.465224  0.066850   \n",
       "\n",
       "     pca_25    pca_26    pca_27    pca_28    pca_29  TARGET  \n",
       "0 -0.976245 -0.066536  0.382285 -0.128684 -0.439406     1.0  \n",
       "1  0.821256  0.454951 -0.195640 -0.809032  1.015368     0.0  \n",
       "2  0.309339 -1.179552  0.145423  0.625465 -0.542566     0.0  \n",
       "3 -0.198968  0.466268  0.346880  0.063882 -0.197900     0.0  \n",
       "4  1.385493 -0.159847 -1.291367  0.699323 -0.291344     0.0  \n",
       "\n",
       "[5 rows x 31 columns]"
      ]
     },
     "execution_count": 234,
     "metadata": {},
     "output_type": "execute_result"
    }
   ],
   "source": [
    "columns = ['pca_%i' % i for i in range(pca.n_components_)]\n",
    "df_pca = pd.DataFrame(pca.transform(data), columns=columns, index=df.index)\n",
    "\n",
    "df_pca['TARGET']=df['TARGET']\n",
    "df_pca.head()"
   ]
  },
  {
   "cell_type": "code",
   "execution_count": 235,
   "metadata": {},
   "outputs": [],
   "source": [
    "df_pca.to_csv('data/df_pca.csv',index=False)"
   ]
  },
  {
   "cell_type": "code",
   "execution_count": 236,
   "metadata": {},
   "outputs": [],
   "source": [
    "df_pca_train = df_pca[~pd.isna(df_pca['TARGET'])]\n"
   ]
  },
  {
   "cell_type": "code",
   "execution_count": 237,
   "metadata": {},
   "outputs": [
    {
     "data": {
      "text/plain": [
       "(307511, 31)"
      ]
     },
     "execution_count": 237,
     "metadata": {},
     "output_type": "execute_result"
    }
   ],
   "source": [
    "df_pca_train.shape"
   ]
  },
  {
   "cell_type": "code",
   "execution_count": 238,
   "metadata": {},
   "outputs": [],
   "source": [
    "def evaluate_model(model, x_test, y_test):\n",
    "    from sklearn import metrics\n",
    "\n",
    "    # Predict Test Data \n",
    "    y_pred = model.predict(x_test)\n",
    "\n",
    "    # Calculate accuracy, precision, recall, f1-score, and kappa score\n",
    "    acc = metrics.accuracy_score(y_test, y_pred)\n",
    "    prec = metrics.precision_score(y_test, y_pred)\n",
    "    rec = metrics.recall_score(y_test, y_pred)\n",
    "    f1 = metrics.f1_score(y_test, y_pred)\n",
    "    kappa = metrics.cohen_kappa_score(y_test, y_pred)\n",
    "\n",
    "    # Calculate area under curve (AUC)\n",
    "    y_pred_proba = model.predict_proba(x_test)[::,1]\n",
    "    fpr, tpr, _ = metrics.roc_curve(y_test, y_pred_proba)\n",
    "    auc = metrics.roc_auc_score(y_test, y_pred_proba)\n",
    "\n",
    "    # Display confussion matrix\n",
    "    cm = metrics.confusion_matrix(y_test, y_pred)\n",
    "\n",
    "    return {'acc': acc, 'prec': prec, 'rec': rec, 'f1': f1, 'kappa': kappa, \n",
    "            'fpr': fpr, 'tpr': tpr, 'auc': auc, 'cm': cm}"
   ]
  },
  {
   "cell_type": "code",
   "execution_count": 239,
   "metadata": {},
   "outputs": [],
   "source": [
    "# Set Training and Testing Data\n",
    "random_state=42\n",
    "from sklearn.model_selection import train_test_split\n",
    "feature = df_pca_train.drop('TARGET', axis=1)\n",
    "\n",
    "# Select Target\n",
    "target = df_pca_train['TARGET']\n",
    "\n",
    "\n",
    "X_train, X_test, y_train, y_test = train_test_split(feature , target, \n",
    "                                                    shuffle = True, \n",
    "                                                    test_size=0.2, \n",
    "                                                    stratify=target,\n",
    "                                                    random_state=random_state)"
   ]
  },
  {
   "cell_type": "code",
   "execution_count": 246,
   "metadata": {},
   "outputs": [
    {
     "name": "stdout",
     "output_type": "stream",
     "text": [
      "Accuracy: 0.8449343934442223\n",
      "Precision: 0.11175271739130435\n",
      "Recall: 0.132527693856999\n",
      "F1 Score: 0.12125679535612273\n",
      "Cohens Kappa Score: 0.036895261795820256\n",
      "Area Under Curve: 0.5200117686802417\n",
      "Confusion Matrix:\n",
      " [[51308  5230]\n",
      " [ 4307   658]]\n"
     ]
    }
   ],
   "source": [
    "from sklearn import tree\n",
    "from sklearn.ensemble import RandomForestClassifier\n",
    "# Building Decision Tree model \n",
    "dtc = tree.DecisionTreeClassifier(random_state=random_state)\n",
    "#dtc = RandomForestClassifier(random_state=random_state)\n",
    "\n",
    "dtc.fit(X_train, y_train)\n",
    "\n",
    "# Evaluate Model\n",
    "dtc_eval = evaluate_model(dtc, X_test, y_test)\n",
    "\n",
    "# Print result\n",
    "print('Accuracy:', dtc_eval['acc'])\n",
    "print('Precision:', dtc_eval['prec'])\n",
    "print('Recall:', dtc_eval['rec'])\n",
    "print('F1 Score:', dtc_eval['f1'])\n",
    "print('Cohens Kappa Score:', dtc_eval['kappa'])\n",
    "print('Area Under Curve:', dtc_eval['auc'])\n",
    "print('Confusion Matrix:\\n', dtc_eval['cm'])"
   ]
  }
 ],
 "metadata": {
  "kernelspec": {
   "display_name": "Python 3 (ipykernel)",
   "language": "python",
   "name": "python3"
  },
  "language_info": {
   "codemirror_mode": {
    "name": "ipython",
    "version": 3
   },
   "file_extension": ".py",
   "mimetype": "text/x-python",
   "name": "python",
   "nbconvert_exporter": "python",
   "pygments_lexer": "ipython3",
   "version": "3.7.15"
  }
 },
 "nbformat": 4,
 "nbformat_minor": 4
}
