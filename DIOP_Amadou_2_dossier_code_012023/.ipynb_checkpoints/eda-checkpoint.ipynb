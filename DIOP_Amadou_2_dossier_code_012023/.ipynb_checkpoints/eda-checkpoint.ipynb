{
 "cells": [
  {
   "cell_type": "code",
   "execution_count": 167,
   "metadata": {},
   "outputs": [],
   "source": [
    "import numpy as np\n",
    "import pandas as pd\n",
    "from functions import utils,scoring\n",
    "\n",
    "from functions import functions as utils2\n",
    "from functions import classification_utils\n",
    "\n",
    "import plotly.express as px\n",
    "from IPython.display import display, HTML\n",
    "from sklearn.preprocessing import OneHotEncoder, StandardScaler\n",
    "from sklearn.decomposition import PCA\n",
    "#display(HTML(\"<style>.container { width:100% !important; }</style>\"))\n",
    "pd.set_option('display.max_colwidth', None)"
   ]
  },
  {
   "cell_type": "code",
   "execution_count": 168,
   "metadata": {},
   "outputs": [
    {
     "name": "stdout",
     "output_type": "stream",
     "text": [
      "Memory usage of dataframe is 286.23 MB\n",
      "Memory usage after optimization is: 92.38 MB\n",
      "Decreased by 67.7%\n",
      "Memory usage of dataframe is 45.00 MB\n",
      "Memory usage after optimization is: 14.60 MB\n",
      "Decreased by 67.6%\n",
      "Memory usage of dataframe is 222.62 MB\n",
      "Memory usage after optimization is: 112.95 MB\n",
      "Decreased by 49.3%\n",
      "Memory usage of dataframe is 624.85 MB\n",
      "Memory usage after optimization is: 338.46 MB\n",
      "Decreased by 45.8%\n",
      "Memory usage of dataframe is 610.43 MB\n",
      "Memory usage after optimization is: 238.45 MB\n",
      "Decreased by 60.9%\n",
      "Memory usage of dataframe is 673.88 MB\n",
      "Memory usage after optimization is: 289.33 MB\n",
      "Decreased by 57.1%\n",
      "Memory usage of dataframe is 471.48 MB\n",
      "Memory usage after optimization is: 309.01 MB\n",
      "Decreased by 34.5%\n",
      "Memory usage of dataframe is 830.41 MB\n",
      "Memory usage after optimization is: 311.40 MB\n",
      "Decreased by 62.5%\n",
      "Memory usage of dataframe is 0.01 MB\n",
      "Memory usage after optimization is: 0.01 MB\n",
      "Decreased by 14.8%\n"
     ]
    }
   ],
   "source": [
    "\n",
    "df_train =  utils2.reduce_memory_usage(pd.read_csv('data/application_train.csv'))\n",
    "#df_train.to_csv('data/application_train.csv',index=False)\n",
    "\n",
    "df_test =utils2.reduce_memory_usage( pd.read_csv('data/application_test.csv'))\n",
    "#df_test.to_csv('data/application_test.csv',index=False)\n",
    "\n",
    "df_bureau =utils2.reduce_memory_usage( pd.read_csv('data/bureau.csv'))\n",
    "#df_bureau.to_csv('data/bureau.csv',index=False)\n",
    "\n",
    "df_bureau_balance = utils2.reduce_memory_usage(pd.read_csv('data/bureau_balance.csv'))\n",
    "#df_bureau_balance.to_csv('data/bureau_balance.csv',index=False)\n",
    "\n",
    "df_pos_cash_balance = utils2.reduce_memory_usage(pd.read_csv('data/POS_CASH_balance.csv'))\n",
    "#df_pos_cash_balance.to_csv('data/POS_CASH_balance.csv',index=False)\n",
    "\n",
    "df_credit_card_balance=utils2.reduce_memory_usage(pd.read_csv('data/credit_card_balance.csv'))\n",
    "#df_credit_card_balance.to_csv('data/credit_card_balance.csv',index=False)\n",
    "\n",
    "df_previous_application = utils2.reduce_memory_usage(pd.read_csv('data/previous_application.csv'))\n",
    "#df_previous_application.to_csv('data/previous_application.csv',index=False)\n",
    "\n",
    "df_installments_payments = utils2.reduce_memory_usage(pd.read_csv('data/installments_payments.csv'))\n",
    "#df_installments_payments.to_csv('data/installments_payments.csv',index=False)\n",
    "\n",
    "doc=utils2.reduce_memory_usage(pd.read_csv('data/HomeCredit_columns_description.csv',encoding='unicode_escape'))\n",
    "#doc.to_csv('data/HomeCredit_columns_description.csv',index=False)\n",
    "def find_doc(cols):\n",
    "    return(doc[doc['Row'].isin(cols)])\n"
   ]
  },
  {
   "cell_type": "markdown",
   "metadata": {},
   "source": [
    "# Partie 1: Analyse exploiratoire des données"
   ]
  },
  {
   "cell_type": "code",
   "execution_count": null,
   "metadata": {},
   "outputs": [],
   "source": []
  },
  {
   "cell_type": "code",
   "execution_count": 169,
   "metadata": {},
   "outputs": [],
   "source": [
    "\n",
    "df_train = pd.read_csv('data/train_cleaned_aggregated.csv')\n",
    "df_test = pd.read_csv('data/test_cleaned_aggregated.csv')\n"
   ]
  },
  {
   "cell_type": "code",
   "execution_count": 170,
   "metadata": {},
   "outputs": [
    {
     "data": {
      "text/plain": [
       "\"\\n#take too much time to finish\\nparams={\\n 'df_train':df_train,\\n 'df_test':df_test ,\\n 'df_bureau':df_bureau ,\\n 'df_bureau_balance':df_bureau_balance ,\\n 'df_pos_cash_balance':df_pos_cash_balance ,\\n 'df_credit_card_balance':df_credit_card_balance,\\n 'df_previous_application':df_previous_application , \\n 'df_installments_payments':df_installments_payments \\n    }\\nmain_df,df_train,df_test=scoring.clean_aggreagte(params)\\nmain_df.to_csv('data/main_df.csv',index=False)\\n\\ndf_train,df_test=scoring.clean_aggreagte(params)\\ndf_train.to_csv('data/train_cleaned_aggregated.csv',index=False)\\ndf_test.to_csv('data/test_cleaned_aggregated.csv',index=False)\\n\""
      ]
     },
     "execution_count": 170,
     "metadata": {},
     "output_type": "execute_result"
    }
   ],
   "source": [
    "\"\"\"\n",
    "#take too much time to finish\n",
    "params={\n",
    " 'df_train':df_train,\n",
    " 'df_test':df_test ,\n",
    " 'df_bureau':df_bureau ,\n",
    " 'df_bureau_balance':df_bureau_balance ,\n",
    " 'df_pos_cash_balance':df_pos_cash_balance ,\n",
    " 'df_credit_card_balance':df_credit_card_balance,\n",
    " 'df_previous_application':df_previous_application , \n",
    " 'df_installments_payments':df_installments_payments \n",
    "    }\n",
    "main_df,df_train,df_test=scoring.clean_aggreagte(params)\n",
    "main_df.to_csv('data/main_df.csv',index=False)\n",
    "\n",
    "df_train,df_test=scoring.clean_aggreagte(params)\n",
    "df_train.to_csv('data/train_cleaned_aggregated.csv',index=False)\n",
    "df_test.to_csv('data/test_cleaned_aggregated.csv',index=False)\n",
    "\"\"\""
   ]
  },
  {
   "cell_type": "code",
   "execution_count": 171,
   "metadata": {},
   "outputs": [
    {
     "data": {
      "text/plain": [
       "\"\\ndf_train=pd.read_csv('data/main_df.csv')\\ndf_train=main_df[~pd.isna(main_df['TARGET'])]\\ndf_test=main_df[pd.isna(main_df['TARGET'])]\\n\""
      ]
     },
     "execution_count": 171,
     "metadata": {},
     "output_type": "execute_result"
    }
   ],
   "source": [
    "\"\"\"\n",
    "df_train=pd.read_csv('data/main_df.csv')\n",
    "df_train=main_df[~pd.isna(main_df['TARGET'])]\n",
    "df_test=main_df[pd.isna(main_df['TARGET'])]\n",
    "\"\"\""
   ]
  },
  {
   "cell_type": "code",
   "execution_count": 172,
   "metadata": {},
   "outputs": [
    {
     "data": {
      "text/plain": [
       "(307511, 76)"
      ]
     },
     "execution_count": 172,
     "metadata": {},
     "output_type": "execute_result"
    }
   ],
   "source": [
    "df_train.shape"
   ]
  },
  {
   "cell_type": "code",
   "execution_count": 173,
   "metadata": {},
   "outputs": [
    {
     "name": "stdout",
     "output_type": "stream",
     "text": [
      "<class 'pandas.core.frame.DataFrame'>\n",
      "RangeIndex: 307511 entries, 0 to 307510\n",
      "Data columns (total 76 columns):\n",
      " #   Column                                                     Non-Null Count   Dtype  \n",
      "---  ------                                                     --------------   -----  \n",
      " 0   SK_ID_CURR                                                 307511 non-null  int64  \n",
      " 1   TARGET                                                     307511 non-null  float64\n",
      " 2   NAME_CONTRACT_TYPE                                         307511 non-null  object \n",
      " 3   CODE_GENDER                                                307511 non-null  object \n",
      " 4   FLAG_OWN_CAR                                               307511 non-null  object \n",
      " 5   FLAG_OWN_REALTY                                            307511 non-null  object \n",
      " 6   CNT_CHILDREN                                               307511 non-null  int64  \n",
      " 7   AMT_INCOME_TOTAL                                           307511 non-null  float64\n",
      " 8   AMT_CREDIT                                                 307511 non-null  float64\n",
      " 9   AMT_ANNUITY                                                307511 non-null  float64\n",
      " 10  AMT_GOODS_PRICE                                            307511 non-null  float64\n",
      " 11  NAME_INCOME_TYPE                                           307511 non-null  object \n",
      " 12  NAME_EDUCATION_TYPE                                        307511 non-null  object \n",
      " 13  NAME_FAMILY_STATUS                                         307511 non-null  object \n",
      " 14  NAME_HOUSING_TYPE                                          307511 non-null  object \n",
      " 15  CNT_FAM_MEMBERS                                            307511 non-null  float64\n",
      " 16  ORGANIZATION_TYPE                                          307511 non-null  object \n",
      " 17  EXT_SOURCE_2                                               306851 non-null  float64\n",
      " 18  EXT_SOURCE_3                                               246546 non-null  float64\n",
      " 19  AGE                                                        307511 non-null  float64\n",
      " 20  PRO_SENIORITY                                              307511 non-null  float64\n",
      " 21  ACCOUNT_SENIORITY                                          307511 non-null  float64\n",
      " 22  ANNUITY_AMT_CREDIT_PERCENT                                 307511 non-null  float64\n",
      " 23  ANNUITY_INCOME_PERCENT                                     307511 non-null  float64\n",
      " 24  CREDIT_TERM                                                307511 non-null  float64\n",
      " 25  AGE_LOAN_FINISH                                            307511 non-null  float64\n",
      " 26  GOODS_LOAN_PERCENT                                         307511 non-null  float64\n",
      " 27  INCOME_AFTER_ANNUITY                                       307511 non-null  float64\n",
      " 28  NET_INCOME_PER_FAMILY_HEAD_AFTER_ANNUITY                   307511 non-null  float64\n",
      " 29  COUNT_PAST_LOANS                                           307511 non-null  float64\n",
      " 30  COUNT_PAST_HOME_LOANS_x                                    307511 non-null  float64\n",
      " 31  COUNT_POS_SALE                                             307511 non-null  float64\n",
      " 32  COUNT_CREDIT_SALE                                          307511 non-null  float64\n",
      " 33  COUNT_PAST_INSTALLMENT                                     307511 non-null  float64\n",
      " 34  COUNT_PAST_HOME_LOANS_y                                    291057 non-null  float64\n",
      " 35  bureau_DAYS_CREDIT_mean                                    263491 non-null  float64\n",
      " 36  bureau_CREDIT_DAY_OVERDUE_mean                             263491 non-null  float64\n",
      " 37  bureau_DAYS_CREDIT_ENDDATE_mean                            261242 non-null  float64\n",
      " 38  bureau_CNT_CREDIT_PROLONG_mean                             263491 non-null  float64\n",
      " 39  bureau_AMT_CREDIT_SUM_mean                                 263490 non-null  float64\n",
      " 40  bureau_AMT_CREDIT_SUM_DEBT_mean                            256131 non-null  float64\n",
      " 41  bureau_AMT_CREDIT_SUM_OVERDUE_mean                         263491 non-null  float64\n",
      " 42  bureau_DAYS_CREDIT_UPDATE_mean                             263491 non-null  float64\n",
      " 43  frequent-bureau-CREDIT_ACTIVE                              263491 non-null  object \n",
      " 44  frequent-bureau-CREDIT_TYPE                                263491 non-null  object \n",
      " 45  previous_application_AMT_ANNUITY_mean                      290640 non-null  float64\n",
      " 46  previous_application_AMT_APPLICATION_mean                  291057 non-null  float64\n",
      " 47  previous_application_AMT_CREDIT_mean                       291057 non-null  float64\n",
      " 48  previous_application_AMT_GOODS_PRICE_mean                  290082 non-null  float64\n",
      " 49  previous_application_NFLAG_LAST_APPL_IN_DAY_mean           291057 non-null  float64\n",
      " 50  previous_application_SELLERPLACE_AREA_mean                 291057 non-null  float64\n",
      " 51  previous_application_CNT_PAYMENT_mean                      290642 non-null  float64\n",
      " 52  frequent-previous_application-NAME_CONTRACT_TYPE           291057 non-null  object \n",
      " 53  frequent-previous_application-FLAG_LAST_APPL_PER_CONTRACT  291057 non-null  object \n",
      " 54  frequent-previous_application-NAME_CASH_LOAN_PURPOSE       291057 non-null  object \n",
      " 55  frequent-previous_application-NAME_CONTRACT_STATUS         291057 non-null  object \n",
      " 56  frequent-previous_application-NAME_PAYMENT_TYPE            291057 non-null  object \n",
      " 57  frequent-previous_application-CODE_REJECT_REASON           291057 non-null  object \n",
      " 58  frequent-previous_application-NAME_CLIENT_TYPE             291057 non-null  object \n",
      " 59  frequent-previous_application-NAME_GOODS_CATEGORY          291057 non-null  object \n",
      " 60  frequent-previous_application-NAME_PORTFOLIO               291057 non-null  object \n",
      " 61  frequent-previous_application-NAME_PRODUCT_TYPE            291057 non-null  object \n",
      " 62  frequent-previous_application-CHANNEL_TYPE                 291057 non-null  object \n",
      " 63  frequent-previous_application-NAME_SELLER_INDUSTRY         291057 non-null  object \n",
      " 64  frequent-previous_application-NAME_YIELD_GROUP             291057 non-null  object \n",
      " 65  frequent-previous_application-PRODUCT_COMBINATION          291057 non-null  object \n",
      " 66  pos_cash_balance_MONTHS_BALANCE_mean_x                     289444 non-null  float64\n",
      " 67  pos_cash_balance_CNT_INSTALMENT_mean                       289420 non-null  float64\n",
      " 68  pos_cash_balance_CNT_INSTALMENT_FUTURE_mean                289420 non-null  float64\n",
      " 69  pos_cash_balance_SK_DPD_mean_x                             289444 non-null  float64\n",
      " 70  pos_cash_balance_SK_DPD_DEF_mean_x                         289444 non-null  float64\n",
      " 71  frequent-pos_cash_balance-NAME_CONTRACT_STATUS             289444 non-null  object \n",
      " 72  installments_payments_DAYS_INSTALMENT_mean                 291643 non-null  float64\n",
      " 73  installments_payments_DAYS_ENTRY_PAYMENT_mean              291635 non-null  float64\n",
      " 74  installments_payments_AMT_INSTALMENT_mean                  291643 non-null  float64\n",
      " 75  installments_payments_AMT_PAYMENT_mean                     291635 non-null  float64\n",
      "dtypes: float64(48), int64(2), object(26)\n",
      "memory usage: 178.3+ MB\n"
     ]
    }
   ],
   "source": [
    "df_train.info()"
   ]
  },
  {
   "cell_type": "code",
   "execution_count": 174,
   "metadata": {},
   "outputs": [
    {
     "data": {
      "text/plain": [
       "83350"
      ]
     },
     "execution_count": 174,
     "metadata": {},
     "output_type": "execute_result"
    }
   ],
   "source": [
    "len(df_train[df_train.isna().any(axis=1)])"
   ]
  },
  {
   "cell_type": "markdown",
   "metadata": {},
   "source": [
    "* Aucun doublon de clients dans l'échantillon d'entrainement selon l'identifiant unique SK_ID_CURR"
   ]
  },
  {
   "cell_type": "code",
   "execution_count": 175,
   "metadata": {},
   "outputs": [
    {
     "data": {
      "text/plain": [
       "0"
      ]
     },
     "execution_count": 175,
     "metadata": {},
     "output_type": "execute_result"
    }
   ],
   "source": [
    "\n",
    "len(df_train.loc[df_train.duplicated(subset='SK_ID_CURR',keep='first')]) ## 0 aucun doublons"
   ]
  },
  {
   "cell_type": "markdown",
   "metadata": {},
   "source": [
    "* Aucun doublon de clients dans l'échantillon de test selon l'identifiant unique SK_ID_CURR"
   ]
  },
  {
   "cell_type": "code",
   "execution_count": 176,
   "metadata": {},
   "outputs": [
    {
     "data": {
      "text/plain": [
       "0"
      ]
     },
     "execution_count": 176,
     "metadata": {},
     "output_type": "execute_result"
    }
   ],
   "source": [
    "\n",
    "len(df_test.loc[df_test.duplicated(subset='SK_ID_CURR',keep='first')]) ## 0 aucun doublons"
   ]
  },
  {
   "cell_type": "markdown",
   "metadata": {},
   "source": [
    "76 variables dont:\n",
    "* 50 numériques\n",
    "* 26 catégorielles"
   ]
  },
  {
   "cell_type": "code",
   "execution_count": 177,
   "metadata": {},
   "outputs": [
    {
     "name": "stdout",
     "output_type": "stream",
     "text": [
      "len(numeric_cols) 50\n",
      "len(string_cols) 26\n"
     ]
    }
   ],
   "source": [
    "\n",
    "numeric_cols=df_train.select_dtypes(exclude = ['object']).columns.tolist()\n",
    "string_cols=df_train.select_dtypes(include = ['object']).columns.tolist()\n",
    "print('len(numeric_cols)',len(numeric_cols))\n",
    "print('len(string_cols)',len(string_cols))"
   ]
  },
  {
   "cell_type": "markdown",
   "metadata": {},
   "source": [
    "### 1-1 <u>Analyse univariée de la variable cible TARGET </u>"
   ]
  },
  {
   "cell_type": "code",
   "execution_count": 178,
   "metadata": {},
   "outputs": [
    {
     "data": {
      "text/plain": [
       "<matplotlib.axes._subplots.AxesSubplot at 0x7ff15c22ba10>"
      ]
     },
     "execution_count": 178,
     "metadata": {},
     "output_type": "execute_result"
    },
    {
     "data": {
      "image/png": "[encoded data removed]",
      "text/plain": [
       "<Figure size 432x288 with 1 Axes>"
      ]
     },
     "metadata": {},
     "output_type": "display_data"
    }
   ],
   "source": [
    "df_train['TARGET'].map(lambda x: 'paid=No' if x==1 else 'paid=Yes')\\\n",
    "    .value_counts()\\\n",
    "    .plot\\\n",
    "    .pie(autopct='%1.1f%%')"
   ]
  },
  {
   "cell_type": "markdown",
   "metadata": {},
   "source": [
    "on note un déséquilibre de classe:\n",
    "* 8.1% des clients sont en défaut de paiement\n",
    "* 91.9% des clients ne sont pas en défaut de paiement "
   ]
  },
  {
   "cell_type": "markdown",
   "metadata": {},
   "source": [
    "### 1-2 <u>Analyse variables catégorielles</u>"
   ]
  },
  {
   "cell_type": "code",
   "execution_count": 179,
   "metadata": {},
   "outputs": [
    {
     "data": {
      "text/html": [
       "<div>\n",
       "<style scoped>\n",
       "    .dataframe tbody tr th:only-of-type {\n",
       "        vertical-align: middle;\n",
       "    }\n",
       "\n",
       "    .dataframe tbody tr th {\n",
       "        vertical-align: top;\n",
       "    }\n",
       "\n",
       "    .dataframe thead th {\n",
       "        text-align: right;\n",
       "    }\n",
       "</style>\n",
       "<table border=\"1\" class=\"dataframe\">\n",
       "  <thead>\n",
       "    <tr style=\"text-align: right;\">\n",
       "      <th></th>\n",
       "      <th>Column</th>\n",
       "      <th>na_rate_percent</th>\n",
       "    </tr>\n",
       "  </thead>\n",
       "  <tbody>\n",
       "  </tbody>\n",
       "</table>\n",
       "</div>"
      ],
      "text/plain": [
       "Empty DataFrame\n",
       "Columns: [Column, na_rate_percent]\n",
       "Index: []"
      ]
     },
     "execution_count": 179,
     "metadata": {},
     "output_type": "execute_result"
    }
   ],
   "source": [
    " \n",
    "na_df=utils.columns_na_percentage(df_train[string_cols])\n",
    "na_columns=na_df[na_df['na_rate_percent']>30] ## 6 colonnes ont  des valeurs nulles\n",
    "na_columns\n"
   ]
  },
  {
   "cell_type": "code",
   "execution_count": 180,
   "metadata": {},
   "outputs": [
    {
     "ename": "ValueError",
     "evalue": "min() arg is an empty sequence",
     "output_type": "error",
     "traceback": [
      "\u001b[0;31m---------------------------------------------------------------------------\u001b[0m",
      "\u001b[0;31mValueError\u001b[0m                                Traceback (most recent call last)",
      "\u001b[0;32m<ipython-input-180-704daa4f7668>\u001b[0m in \u001b[0;36m<module>\u001b[0;34m\u001b[0m\n\u001b[0;32m----> 1\u001b[0;31m \u001b[0mutils\u001b[0m\u001b[0;34m.\u001b[0m\u001b[0mdraw_completion\u001b[0m\u001b[0;34m(\u001b[0m\u001b[0mdf_train\u001b[0m\u001b[0;34m[\u001b[0m\u001b[0mstring_cols\u001b[0m\u001b[0;34m]\u001b[0m\u001b[0;34m,\u001b[0m\u001b[0mna_columns\u001b[0m\u001b[0;34m.\u001b[0m\u001b[0mshape\u001b[0m\u001b[0;34m[\u001b[0m\u001b[0;36m0\u001b[0m\u001b[0;34m]\u001b[0m\u001b[0;34m)\u001b[0m\u001b[0;34m\u001b[0m\u001b[0;34m\u001b[0m\u001b[0m\n\u001b[0m",
      "\u001b[0;32m~/Desktop/ml/modele_de_scoring/DIOP_Amadou_2_dossier_code_122022/functions/utils.py\u001b[0m in \u001b[0;36mdraw_completion\u001b[0;34m(df, head_size)\u001b[0m\n\u001b[1;32m     78\u001b[0m     \u001b[0mdata_nan\u001b[0m \u001b[0;34m=\u001b[0m \u001b[0mdf\u001b[0m\u001b[0;34m.\u001b[0m\u001b[0misna\u001b[0m\u001b[0;34m(\u001b[0m\u001b[0;34m)\u001b[0m\u001b[0;34m.\u001b[0m\u001b[0msum\u001b[0m\u001b[0;34m(\u001b[0m\u001b[0;34m)\u001b[0m\u001b[0;34m.\u001b[0m\u001b[0msort_values\u001b[0m\u001b[0;34m(\u001b[0m\u001b[0mascending\u001b[0m\u001b[0;34m=\u001b[0m\u001b[0;32mFalse\u001b[0m\u001b[0;34m)\u001b[0m\u001b[0;34m.\u001b[0m\u001b[0mhead\u001b[0m\u001b[0;34m(\u001b[0m\u001b[0mhead_size\u001b[0m\u001b[0;34m)\u001b[0m\u001b[0;34m\u001b[0m\u001b[0;34m\u001b[0m\u001b[0m\n\u001b[1;32m     79\u001b[0m     \u001b[0mplt\u001b[0m\u001b[0;34m.\u001b[0m\u001b[0mtitle\u001b[0m\u001b[0;34m(\u001b[0m\u001b[0;34m'Proportion de NaN par variable (%)'\u001b[0m\u001b[0;34m)\u001b[0m\u001b[0;34m\u001b[0m\u001b[0;34m\u001b[0m\u001b[0m\n\u001b[0;32m---> 80\u001b[0;31m     \u001b[0msns\u001b[0m\u001b[0;34m.\u001b[0m\u001b[0mbarplot\u001b[0m\u001b[0;34m(\u001b[0m\u001b[0mx\u001b[0m\u001b[0;34m=\u001b[0m\u001b[0mdata_nan\u001b[0m\u001b[0;34m.\u001b[0m\u001b[0mvalues\u001b[0m\u001b[0;34m/\u001b[0m\u001b[0mdf\u001b[0m\u001b[0;34m.\u001b[0m\u001b[0mshape\u001b[0m\u001b[0;34m[\u001b[0m\u001b[0;36m0\u001b[0m\u001b[0;34m]\u001b[0m\u001b[0;34m*\u001b[0m\u001b[0;36m100\u001b[0m\u001b[0;34m,\u001b[0m \u001b[0my\u001b[0m\u001b[0;34m=\u001b[0m\u001b[0mdata_nan\u001b[0m\u001b[0;34m.\u001b[0m\u001b[0mindex\u001b[0m\u001b[0;34m)\u001b[0m\u001b[0;34m\u001b[0m\u001b[0;34m\u001b[0m\u001b[0m\n\u001b[0m\u001b[1;32m     81\u001b[0m \u001b[0;31m## fonction renvoyant les colonnes et le pourcentage de valeurs nulles pour chacune d'elle\u001b[0m\u001b[0;34m\u001b[0m\u001b[0;34m\u001b[0m\u001b[0;34m\u001b[0m\u001b[0m\n\u001b[1;32m     82\u001b[0m \u001b[0;32mdef\u001b[0m \u001b[0mcolumns_na_percentage\u001b[0m\u001b[0;34m(\u001b[0m\u001b[0mdf\u001b[0m\u001b[0;34m)\u001b[0m\u001b[0;34m:\u001b[0m\u001b[0;34m\u001b[0m\u001b[0;34m\u001b[0m\u001b[0m\n",
      "\u001b[0;32m~/anaconda3/lib/python3.7/site-packages/seaborn/_decorators.py\u001b[0m in \u001b[0;36minner_f\u001b[0;34m(*args, **kwargs)\u001b[0m\n\u001b[1;32m     44\u001b[0m             )\n\u001b[1;32m     45\u001b[0m         \u001b[0mkwargs\u001b[0m\u001b[0;34m.\u001b[0m\u001b[0mupdate\u001b[0m\u001b[0;34m(\u001b[0m\u001b[0;34m{\u001b[0m\u001b[0mk\u001b[0m\u001b[0;34m:\u001b[0m \u001b[0marg\u001b[0m \u001b[0;32mfor\u001b[0m \u001b[0mk\u001b[0m\u001b[0;34m,\u001b[0m \u001b[0marg\u001b[0m \u001b[0;32min\u001b[0m \u001b[0mzip\u001b[0m\u001b[0;34m(\u001b[0m\u001b[0msig\u001b[0m\u001b[0;34m.\u001b[0m\u001b[0mparameters\u001b[0m\u001b[0;34m,\u001b[0m \u001b[0margs\u001b[0m\u001b[0;34m)\u001b[0m\u001b[0;34m}\u001b[0m\u001b[0;34m)\u001b[0m\u001b[0;34m\u001b[0m\u001b[0;34m\u001b[0m\u001b[0m\n\u001b[0;32m---> 46\u001b[0;31m         \u001b[0;32mreturn\u001b[0m \u001b[0mf\u001b[0m\u001b[0;34m(\u001b[0m\u001b[0;34m**\u001b[0m\u001b[0mkwargs\u001b[0m\u001b[0;34m)\u001b[0m\u001b[0;34m\u001b[0m\u001b[0;34m\u001b[0m\u001b[0m\n\u001b[0m\u001b[1;32m     47\u001b[0m     \u001b[0;32mreturn\u001b[0m \u001b[0minner_f\u001b[0m\u001b[0;34m\u001b[0m\u001b[0;34m\u001b[0m\u001b[0m\n\u001b[1;32m     48\u001b[0m \u001b[0;34m\u001b[0m\u001b[0m\n",
      "\u001b[0;32m~/anaconda3/lib/python3.7/site-packages/seaborn/categorical.py\u001b[0m in \u001b[0;36mbarplot\u001b[0;34m(x, y, hue, data, order, hue_order, estimator, ci, n_boot, units, seed, orient, color, palette, saturation, errcolor, errwidth, capsize, dodge, ax, **kwargs)\u001b[0m\n\u001b[1;32m   3183\u001b[0m                           \u001b[0mestimator\u001b[0m\u001b[0;34m,\u001b[0m \u001b[0mci\u001b[0m\u001b[0;34m,\u001b[0m \u001b[0mn_boot\u001b[0m\u001b[0;34m,\u001b[0m \u001b[0munits\u001b[0m\u001b[0;34m,\u001b[0m \u001b[0mseed\u001b[0m\u001b[0;34m,\u001b[0m\u001b[0;34m\u001b[0m\u001b[0;34m\u001b[0m\u001b[0m\n\u001b[1;32m   3184\u001b[0m                           \u001b[0morient\u001b[0m\u001b[0;34m,\u001b[0m \u001b[0mcolor\u001b[0m\u001b[0;34m,\u001b[0m \u001b[0mpalette\u001b[0m\u001b[0;34m,\u001b[0m \u001b[0msaturation\u001b[0m\u001b[0;34m,\u001b[0m\u001b[0;34m\u001b[0m\u001b[0;34m\u001b[0m\u001b[0m\n\u001b[0;32m-> 3185\u001b[0;31m                           errcolor, errwidth, capsize, dodge)\n\u001b[0m\u001b[1;32m   3186\u001b[0m \u001b[0;34m\u001b[0m\u001b[0m\n\u001b[1;32m   3187\u001b[0m     \u001b[0;32mif\u001b[0m \u001b[0max\u001b[0m \u001b[0;32mis\u001b[0m \u001b[0;32mNone\u001b[0m\u001b[0;34m:\u001b[0m\u001b[0;34m\u001b[0m\u001b[0;34m\u001b[0m\u001b[0m\n",
      "\u001b[0;32m~/anaconda3/lib/python3.7/site-packages/seaborn/categorical.py\u001b[0m in \u001b[0;36m__init__\u001b[0;34m(self, x, y, hue, data, order, hue_order, estimator, ci, n_boot, units, seed, orient, color, palette, saturation, errcolor, errwidth, capsize, dodge)\u001b[0m\n\u001b[1;32m   1584\u001b[0m         self.establish_variables(x, y, hue, data, orient,\n\u001b[1;32m   1585\u001b[0m                                  order, hue_order, units)\n\u001b[0;32m-> 1586\u001b[0;31m         \u001b[0mself\u001b[0m\u001b[0;34m.\u001b[0m\u001b[0mestablish_colors\u001b[0m\u001b[0;34m(\u001b[0m\u001b[0mcolor\u001b[0m\u001b[0;34m,\u001b[0m \u001b[0mpalette\u001b[0m\u001b[0;34m,\u001b[0m \u001b[0msaturation\u001b[0m\u001b[0;34m)\u001b[0m\u001b[0;34m\u001b[0m\u001b[0;34m\u001b[0m\u001b[0m\n\u001b[0m\u001b[1;32m   1587\u001b[0m         \u001b[0mself\u001b[0m\u001b[0;34m.\u001b[0m\u001b[0mestimate_statistic\u001b[0m\u001b[0;34m(\u001b[0m\u001b[0mestimator\u001b[0m\u001b[0;34m,\u001b[0m \u001b[0mci\u001b[0m\u001b[0;34m,\u001b[0m \u001b[0mn_boot\u001b[0m\u001b[0;34m,\u001b[0m \u001b[0mseed\u001b[0m\u001b[0;34m)\u001b[0m\u001b[0;34m\u001b[0m\u001b[0;34m\u001b[0m\u001b[0m\n\u001b[1;32m   1588\u001b[0m \u001b[0;34m\u001b[0m\u001b[0m\n",
      "\u001b[0;32m~/anaconda3/lib/python3.7/site-packages/seaborn/categorical.py\u001b[0m in \u001b[0;36mestablish_colors\u001b[0;34m(self, color, palette, saturation)\u001b[0m\n\u001b[1;32m    317\u001b[0m         \u001b[0;31m# Determine the gray color to use for the lines framing the plot\u001b[0m\u001b[0;34m\u001b[0m\u001b[0;34m\u001b[0m\u001b[0;34m\u001b[0m\u001b[0m\n\u001b[1;32m    318\u001b[0m         \u001b[0mlight_vals\u001b[0m \u001b[0;34m=\u001b[0m \u001b[0;34m[\u001b[0m\u001b[0mcolorsys\u001b[0m\u001b[0;34m.\u001b[0m\u001b[0mrgb_to_hls\u001b[0m\u001b[0;34m(\u001b[0m\u001b[0;34m*\u001b[0m\u001b[0mc\u001b[0m\u001b[0;34m)\u001b[0m\u001b[0;34m[\u001b[0m\u001b[0;36m1\u001b[0m\u001b[0;34m]\u001b[0m \u001b[0;32mfor\u001b[0m \u001b[0mc\u001b[0m \u001b[0;32min\u001b[0m \u001b[0mrgb_colors\u001b[0m\u001b[0;34m]\u001b[0m\u001b[0;34m\u001b[0m\u001b[0;34m\u001b[0m\u001b[0m\n\u001b[0;32m--> 319\u001b[0;31m         \u001b[0mlum\u001b[0m \u001b[0;34m=\u001b[0m \u001b[0mmin\u001b[0m\u001b[0;34m(\u001b[0m\u001b[0mlight_vals\u001b[0m\u001b[0;34m)\u001b[0m \u001b[0;34m*\u001b[0m \u001b[0;36m.6\u001b[0m\u001b[0;34m\u001b[0m\u001b[0;34m\u001b[0m\u001b[0m\n\u001b[0m\u001b[1;32m    320\u001b[0m         \u001b[0mgray\u001b[0m \u001b[0;34m=\u001b[0m \u001b[0mmpl\u001b[0m\u001b[0;34m.\u001b[0m\u001b[0mcolors\u001b[0m\u001b[0;34m.\u001b[0m\u001b[0mrgb2hex\u001b[0m\u001b[0;34m(\u001b[0m\u001b[0;34m(\u001b[0m\u001b[0mlum\u001b[0m\u001b[0;34m,\u001b[0m \u001b[0mlum\u001b[0m\u001b[0;34m,\u001b[0m \u001b[0mlum\u001b[0m\u001b[0;34m)\u001b[0m\u001b[0;34m)\u001b[0m\u001b[0;34m\u001b[0m\u001b[0;34m\u001b[0m\u001b[0m\n\u001b[1;32m    321\u001b[0m \u001b[0;34m\u001b[0m\u001b[0m\n",
      "\u001b[0;31mValueError\u001b[0m: min() arg is an empty sequence"
     ]
    },
    {
     "data": {
      "image/png": "[encoded data removed]",
      "text/plain": [
       "<Figure size 432x288 with 1 Axes>"
      ]
     },
     "metadata": {
      "needs_background": "light"
     },
     "output_type": "display_data"
    }
   ],
   "source": [
    "if len(na_columns)>0:\n",
    "    utils.draw_completion(df_train[string_cols],na_columns.shape[0])"
   ]
  },
  {
   "cell_type": "markdown",
   "metadata": {},
   "source": [
    "* suppression de ces variables, vu leur imputation difficile et leur potentielle indisponibilité lors de la classification"
   ]
  },
  {
   "cell_type": "code",
   "execution_count": null,
   "metadata": {},
   "outputs": [],
   "source": [
    "cols_to_remove = [col for col in na_columns['Column'].tolist() if col not in ['OCCUPATION_TYPE']]\n",
    "\"\"\"\n",
    "cols_to_remove = [col for col in na_columns['Column'].tolist() if col not in ['OCCUPATION_TYPE']]\n",
    "df_train.drop(columns=cols_to_remove,axis=1,inplace=True)\n",
    "df_test.drop(columns=cols_to_remove,axis=1,inplace=True)\n",
    "df_train.shape\n",
    "\"\"\"\n",
    "for col in cols_to_remove:\n",
    "    df_train[col]=df_train[col].fillna('unknown')\n",
    "    df_test[col]=df_test[col].fillna('unknown')\n"
   ]
  },
  {
   "cell_type": "code",
   "execution_count": null,
   "metadata": {},
   "outputs": [],
   "source": [
    "relevant_string_cols=[col for col in string_cols if col not in cols_to_remove]\n",
    "relevant_string_cols=df_train.select_dtypes(include = ['object']).columns.tolist()"
   ]
  },
  {
   "cell_type": "markdown",
   "metadata": {},
   "source": [
    "* suppression de la colonne ORGANIZATION_TYPE du fait de son encodage très large 58 variables"
   ]
  },
  {
   "cell_type": "code",
   "execution_count": null,
   "metadata": {},
   "outputs": [],
   "source": [
    "for col in relevant_string_cols:\n",
    "    if df_train[col].nunique() >10:\n",
    "        if col in df_train.columns.tolist():\n",
    "            df_train.drop(columns=[col],axis=1,inplace=True)\n",
    "        if col in df_test.columns.tolist():\n",
    "            df_test.drop(columns=[col],axis=1,inplace=True)\n",
    "            "
   ]
  },
  {
   "cell_type": "code",
   "execution_count": null,
   "metadata": {},
   "outputs": [],
   "source": [
    "\n",
    "numeric_cols=df_train.select_dtypes(exclude = ['object']).columns.tolist()\n",
    "string_cols=df_train.select_dtypes(include = ['object']).columns.tolist()\n",
    "print('len(numeric_cols)',len(numeric_cols))\n",
    "print('len(string_cols)',len(string_cols))"
   ]
  },
  {
   "cell_type": "code",
   "execution_count": null,
   "metadata": {},
   "outputs": [],
   "source": [
    "df_train.isnull().sum()/len(df_train)*100"
   ]
  },
  {
   "cell_type": "markdown",
   "metadata": {},
   "source": [
    "#### 1-2-1 <u>Analyse des type prêts</u>"
   ]
  },
  {
   "cell_type": "code",
   "execution_count": null,
   "metadata": {},
   "outputs": [],
   "source": [
    "df_train['NAME_CONTRACT_TYPE']\\\n",
    "    .value_counts()\\\n",
    "    .plot\\\n",
    "    .pie(autopct='%1.1f%%')"
   ]
  },
  {
   "cell_type": "markdown",
   "metadata": {},
   "source": [
    "* la majorité des prêts sont des prêts de trésorerie(découvert etc ...)\n",
    "* les crédits renouvelables (revolving loans) sont moindres avec un taux de solvabilité beaucoup plus réduit"
   ]
  },
  {
   "cell_type": "markdown",
   "metadata": {},
   "source": [
    "#### 1-2-2 <u>Analyse de la civilité</u>"
   ]
  },
  {
   "cell_type": "code",
   "execution_count": null,
   "metadata": {},
   "outputs": [],
   "source": [
    "df_train['CODE_GENDER']\\\n",
    "    .value_counts()\\\n",
    "    .plot\\\n",
    "    .pie(autopct='%1.1f%%')"
   ]
  },
  {
   "cell_type": "markdown",
   "metadata": {},
   "source": [
    "* 65 % des emprunteurs sont des femmes"
   ]
  },
  {
   "cell_type": "markdown",
   "metadata": {},
   "source": [
    "#### 1-2-3 <u>Analyse des types de revenus</u>"
   ]
  },
  {
   "cell_type": "code",
   "execution_count": null,
   "metadata": {},
   "outputs": [],
   "source": [
    "df_train['NAME_INCOME_TYPE']\\\n",
    "    .value_counts()\\\n",
    "    .plot\\\n",
    "    .pie(autopct='%1.1f%%')"
   ]
  },
  {
   "cell_type": "markdown",
   "metadata": {},
   "source": [
    "* 51% sont des revenus ouvriers"
   ]
  },
  {
   "cell_type": "markdown",
   "metadata": {},
   "source": [
    "#### 1-2-4 <u>Analyse de la possession de voiture ou pas</u>"
   ]
  },
  {
   "cell_type": "code",
   "execution_count": null,
   "metadata": {},
   "outputs": [],
   "source": [
    "df_train['FLAG_OWN_CAR']\\\n",
    "    .value_counts()\\\n",
    "    .plot\\\n",
    "    .pie(autopct='%1.1f%%')"
   ]
  },
  {
   "cell_type": "markdown",
   "metadata": {},
   "source": [
    "* 66% des emprunteurs ne possèdent pas de voitures"
   ]
  },
  {
   "cell_type": "markdown",
   "metadata": {},
   "source": [
    "#### 1-2-5 <u>Analyse de la possession de biens immobiliers</u>"
   ]
  },
  {
   "cell_type": "code",
   "execution_count": null,
   "metadata": {},
   "outputs": [],
   "source": [
    "df_train['FLAG_OWN_REALTY']\\\n",
    "    .value_counts()\\\n",
    "    .plot\\\n",
    "    .pie(autopct='%1.1f%%')"
   ]
  },
  {
   "cell_type": "markdown",
   "metadata": {},
   "source": [
    "* 69 % possèdent un bien immobilier"
   ]
  },
  {
   "cell_type": "markdown",
   "metadata": {},
   "source": [
    "#### 1-2-6 <u>Analyse du status marital</u>"
   ]
  },
  {
   "cell_type": "code",
   "execution_count": null,
   "metadata": {},
   "outputs": [],
   "source": [
    "df_train['NAME_FAMILY_STATUS']\\\n",
    "    .value_counts()\\\n",
    "    .plot\\\n",
    "    .pie(autopct='%1.1f%%')"
   ]
  },
  {
   "cell_type": "markdown",
   "metadata": {},
   "source": [
    "* 69% sont mariés"
   ]
  },
  {
   "cell_type": "markdown",
   "metadata": {},
   "source": [
    "#### 1-2-7 <u>Analyse du niveau d'éducation</u>"
   ]
  },
  {
   "cell_type": "code",
   "execution_count": null,
   "metadata": {},
   "outputs": [],
   "source": [
    "\n",
    "df_train['NAME_EDUCATION_TYPE']\\\n",
    "    .value_counts()\\\n",
    "    .plot\\\n",
    "    .pie(autopct='%1.1f%%')"
   ]
  },
  {
   "cell_type": "markdown",
   "metadata": {},
   "source": [
    "71 % ont un niveau d'éducation secondaire"
   ]
  },
  {
   "cell_type": "markdown",
   "metadata": {},
   "source": [
    "#### 1-2-8 <u>Analyse l'habitat immobilier</u>"
   ]
  },
  {
   "cell_type": "code",
   "execution_count": null,
   "metadata": {},
   "outputs": [],
   "source": [
    "df_train['NAME_HOUSING_TYPE']\\\n",
    "    .value_counts()\\\n",
    "    .plot\\\n",
    "    .pie(autopct='%1.1f%%')"
   ]
  },
  {
   "cell_type": "markdown",
   "metadata": {},
   "source": [
    "* 88 % habitent dans une maison ou appartement"
   ]
  },
  {
   "cell_type": "markdown",
   "metadata": {},
   "source": [
    "### 1-3 <u>Analyse variables numériques</u>"
   ]
  },
  {
   "cell_type": "markdown",
   "metadata": {},
   "source": [
    "* suppression des variables scores EXT_SOURCE_2, EXT_SOURCE_3 au sens où ils peuvent être inconnus au moment de la classification"
   ]
  },
  {
   "cell_type": "code",
   "execution_count": null,
   "metadata": {},
   "outputs": [],
   "source": [
    "UNRELEVANT_COLS=['EXT_SOURCE_2','EXT_SOURCE_3']\n",
    "for col in UNRELEVANT_COLS:\n",
    "    if col in numeric_cols:\n",
    "        numeric_cols.remove(col)\n",
    "if set(UNRELEVANT_COLS).issubset(df_train.columns.tolist()):\n",
    "    df_train.drop(columns=UNRELEVANT_COLS,axis=1,inplace=True)\n",
    "    \n",
    "if set(UNRELEVANT_COLS).issubset(df_test.columns.tolist()):\n",
    "    df_test.drop(columns=UNRELEVANT_COLS,axis=1,inplace=True)"
   ]
  },
  {
   "cell_type": "code",
   "execution_count": null,
   "metadata": {},
   "outputs": [],
   "source": [
    "for col in df_train.columns.tolist():\n",
    "    if col.endswith('_x'):\n",
    "        new_col=col.replace('_x','')\n",
    "        df_train.rename(columns={col: new_col, }, inplace=True)\n",
    "        df_test.rename(columns={col: new_col, }, inplace=True)\n",
    "    if col.endswith('_y'):\n",
    "        new_col=col.replace('_y','')\n",
    "        df_train.rename(columns={col: new_col, }, inplace=True)\n",
    "        df_test.rename(columns={col: new_col, }, inplace=True)"
   ]
  },
  {
   "cell_type": "code",
   "execution_count": null,
   "metadata": {},
   "outputs": [],
   "source": [
    " \n",
    "na_df=utils.columns_na_percentage(df_train)\n",
    "na_columns=na_df[na_df['na_rate_percent']>0] ## 25 colonnes ont  des valeurs nulles\n",
    "\n"
   ]
  },
  {
   "cell_type": "markdown",
   "metadata": {},
   "source": [
    "* imputation des valeurs manquantes par la moyenne"
   ]
  },
  {
   "cell_type": "code",
   "execution_count": null,
   "metadata": {},
   "outputs": [],
   "source": [
    "col='COUNT_PAST_HOME_LOANS'\n",
    "df_train[col]=df_train[col].fillna(0)\n",
    "df_test[col]=df_test[col].fillna(0)\n",
    "\"\"\"\n",
    "for col in na_columns['Column']:\n",
    "    df_train[col]=df_train[col].fillna(df_train[col].mean())\n",
    "    df_test[col]=df_test[col].fillna(df_test[col].mean())\n",
    "\"\"\""
   ]
  },
  {
   "cell_type": "code",
   "execution_count": null,
   "metadata": {},
   "outputs": [],
   "source": [
    "df_train.info()"
   ]
  },
  {
   "cell_type": "code",
   "execution_count": null,
   "metadata": {},
   "outputs": [],
   "source": [
    "df_test.isnull().sum()/len(df_test)*100"
   ]
  },
  {
   "cell_type": "code",
   "execution_count": null,
   "metadata": {},
   "outputs": [],
   "source": [
    "df_train[['AGE','AGE_LOAN_FINISH','PRO_SENIORITY','ACCOUNT_SENIORITY']].describe()"
   ]
  },
  {
   "cell_type": "markdown",
   "metadata": {},
   "source": [
    "* imputation des valeurs négatives concernant les variables ages par zéro\n",
    "* conversion en euros des montants du prêts\n",
    "* imputation par zéro des valeurs moyennes"
   ]
  },
  {
   "cell_type": "code",
   "execution_count": null,
   "metadata": {},
   "outputs": [],
   "source": [
    "currency=86\n",
    "age_cols=['AGE','AGE_LOAN_FINISH','PRO_SENIORITY','ACCOUNT_SENIORITY']\n",
    "\n",
    "for col in age_cols:\n",
    "    df_train[col] = df_train[col].apply(lambda x : x if x > 0 else 0)\n",
    "    df_test[col] = df_test[col].apply(lambda x : x if x > 0 else 0)\n",
    "    \n",
    "df_train['AMT_GOODS_PRICE']=df_train['AMT_GOODS_PRICE']/currency\n",
    "df_train['AMT_CREDIT']=df_train['AMT_CREDIT']/currency\n",
    "df_train['AMT_ANNUITY']=df_train['AMT_ANNUITY']/currency\n",
    "df_train['AMT_INCOME_TOTAL']=df_train['AMT_INCOME_TOTAL']/currency\n",
    "\n",
    "df_test['AMT_GOODS_PRICE']=df_test['AMT_GOODS_PRICE']/currency\n",
    "df_test['AMT_CREDIT']=df_test['AMT_CREDIT']/currency\n",
    "df_test['AMT_ANNUITY']=df_test['AMT_ANNUITY']/currency\n",
    "df_test['AMT_INCOME_TOTAL']=df_test['AMT_INCOME_TOTAL']/currency\n",
    "\n",
    "for col in df_train.columns.tolist():\n",
    "    if col.endswith('mean'):\n",
    "        df_train[col]= df_train[col].fillna(0)\n",
    "        df_test[col]=  df_test[col].fillna(0)\n"
   ]
  },
  {
   "cell_type": "code",
   "execution_count": null,
   "metadata": {},
   "outputs": [],
   "source": [
    "def corr_target(df_train):\n",
    "    # List of new correlations\n",
    "    new_corrs = []\n",
    "\n",
    "    # Iterate through the columns \n",
    "    for col in df_train.select_dtypes(exclude = ['object']).columns.tolist():\n",
    "    #for col in cols:\n",
    "        # Calculate correlation with the target\n",
    "        corr = df_train['TARGET'].corr(df_train[col])\n",
    "\n",
    "        # Append the list as a tuple\n",
    "\n",
    "        new_corrs.append((col, corr))\n",
    "\n",
    "    # Sort the correlations by the absolute value\n",
    "    # Make sure to reverse to put the largest values at the front of list\n",
    "    new_corrs = sorted(new_corrs, key = lambda x: abs(x[1]), reverse = True)\n",
    "    return new_corrs"
   ]
  },
  {
   "cell_type": "code",
   "execution_count": null,
   "metadata": {},
   "outputs": [],
   "source": [
    "cols=df_train.select_dtypes(exclude=['object']).columns.tolist()\n",
    "cols=[col for col in cols if col not in ['TARGET','SK_ID_CURR']]\n",
    "#test=df_train.corr()[['TARGET']].reset_index().sort_values(by='TARGET',ascending=False)\n",
    "#test=df_train['TARGET'].corr(df_train[cols])\n",
    "test=df_train[cols].corrwith(df_train[\"TARGET\"]).reset_index()\\\n",
    ".sort_values(ascending=False,by=0)\n",
    "test"
   ]
  },
  {
   "cell_type": "markdown",
   "metadata": {},
   "source": [
    "### 1-4 <u>Analyse parrallèles des clients solvables et insolvables</u>"
   ]
  },
  {
   "cell_type": "code",
   "execution_count": null,
   "metadata": {},
   "outputs": [],
   "source": [
    "df_train_default=df_train[df_train['TARGET']==1]\n",
    "df_train_solvable=df_train[df_train['TARGET']==0]\n"
   ]
  },
  {
   "cell_type": "markdown",
   "metadata": {},
   "source": [
    "* 24825 clients ont été en défaut de paiements, soit 8,07 % de l'échantillon total d'entrainement"
   ]
  },
  {
   "cell_type": "code",
   "execution_count": null,
   "metadata": {},
   "outputs": [],
   "source": [
    "import matplotlib.pyplot as plt\n",
    " \n",
    "df_train_default['NAME_CONTRACT_TYPE']\\\n",
    "     .value_counts(normalize=True)\\\n",
    "    .plot\\\n",
    "    .pie(autopct='%1.1f%%',\n",
    "         title='répartition des type de prêts des emprunteurs insolvables'\n",
    "        )\n",
    "plt.show()\n",
    "\n",
    "df_train_solvable['NAME_CONTRACT_TYPE']\\\n",
    "    .value_counts(normalize=True)\\\n",
    "    .plot\\\n",
    "    .pie(autopct='%1.1f%%',\n",
    "        title='répartition des type de prêts des emprunteurs solvables'\n",
    "        )\n",
    "plt.show()\n",
    " \n",
    " \n",
    " "
   ]
  },
  {
   "cell_type": "code",
   "execution_count": null,
   "metadata": {},
   "outputs": [],
   "source": [
    "df_train_default['CODE_GENDER']\\\n",
    "    .value_counts(normalize=True)\\\n",
    "    .plot\\\n",
    "    .pie(autopct='%1.1f%%')\n",
    "plt.show()\n",
    "\n",
    "df_train_solvable['CODE_GENDER']\\\n",
    "    .value_counts(normalize=True)\\\n",
    "    .plot\\\n",
    "    .pie(autopct='%1.1f%%')\n",
    "plt.show()\n",
    " "
   ]
  },
  {
   "cell_type": "code",
   "execution_count": null,
   "metadata": {},
   "outputs": [],
   "source": [
    "df_train_default['NAME_INCOME_TYPE']\\\n",
    "    .value_counts(normalize=True)\\\n",
    "    .sort_values(ascending=False)\\\n",
    "    .head(3)\\\n",
    "    .plot\\\n",
    "    .pie(autopct='%1.1f%%')\n",
    " \n",
    "plt.show()\n",
    "df_train_solvable['NAME_INCOME_TYPE']\\\n",
    "   .value_counts(normalize=True)\\\n",
    "    .sort_values(ascending=False)\\\n",
    "    .head(3)\\\n",
    "    .plot\\\n",
    "    .pie(autopct='%1.1f%%')\n",
    "plt.show()\n",
    " "
   ]
  },
  {
   "cell_type": "code",
   "execution_count": null,
   "metadata": {},
   "outputs": [],
   "source": [
    "df_train_default['NAME_HOUSING_TYPE']\\\n",
    "    .value_counts(normalize=True)\\\n",
    "    .sort_values(ascending=False)\\\n",
    "    .head(3)\\\n",
    "    .plot\\\n",
    "    .pie(autopct='%1.1f%%')\n",
    "plt.show()\n",
    "\n",
    "df_train_solvable['NAME_HOUSING_TYPE']\\\n",
    "    .value_counts(normalize=True)\\\n",
    "    .sort_values(ascending=False)\\\n",
    "    .head(3)\\\n",
    "    .plot\\\n",
    "    .pie(autopct='%1.1f%%')\n",
    "plt.show()\n",
    "\n",
    " "
   ]
  },
  {
   "cell_type": "code",
   "execution_count": null,
   "metadata": {},
   "outputs": [],
   "source": [
    "df_train_default['FLAG_OWN_CAR']\\\n",
    "    .value_counts(normalize=True)\\\n",
    "    .sort_values(ascending=False)\\\n",
    "    .head(3)\\\n",
    "    .plot\\\n",
    "    .pie(autopct='%1.1f%%')\n",
    "plt.show()\n",
    " \n",
    "df_train_solvable['FLAG_OWN_CAR']\\\n",
    "     .value_counts(normalize=True)\\\n",
    "    .sort_values(ascending=False)\\\n",
    "    .head(3)\\\n",
    "    .plot\\\n",
    "    .pie(autopct='%1.1f%%')\n",
    "plt.show()\n"
   ]
  },
  {
   "cell_type": "code",
   "execution_count": null,
   "metadata": {},
   "outputs": [],
   "source": [
    "df_train_default['NAME_FAMILY_STATUS']\\\n",
    "   .value_counts(normalize=True)\\\n",
    "    .sort_values(ascending=False)\\\n",
    "    .head(3)\\\n",
    "    .plot\\\n",
    "    .pie(autopct='%1.1f%%')\n",
    "plt.show()\n",
    " \n",
    "\n",
    "df_train_solvable['NAME_FAMILY_STATUS']\\\n",
    "    .value_counts(normalize=True)\\\n",
    "    .sort_values(ascending=False)\\\n",
    "    .head(3)\\\n",
    "    .plot\\\n",
    "    .pie(autopct='%1.1f%%')\n",
    "\n",
    "plt.show()"
   ]
  },
  {
   "cell_type": "code",
   "execution_count": null,
   "metadata": {},
   "outputs": [],
   "source": [
    "df_train_default['FLAG_OWN_REALTY']\\\n",
    "    .value_counts(normalize=True)\\\n",
    "    .plot\\\n",
    "    .pie(autopct='%1.1f%%')\n",
    "plt.show()\n",
    "\n",
    "df_train_solvable['FLAG_OWN_REALTY']\\\n",
    "    .value_counts(normalize=True)\\\n",
    "    .plot\\\n",
    "    .pie(autopct='%1.1f%%')\n",
    "plt.show()\n",
    "\n"
   ]
  },
  {
   "cell_type": "markdown",
   "metadata": {},
   "source": [
    "# Partie 2: Réduction dimensionnelle et étude de faisabilité de la classification"
   ]
  },
  {
   "cell_type": "markdown",
   "metadata": {},
   "source": [
    "### 1-1 <u>Normalisation des variables numériques et encodage des variables catégorielles</u>"
   ]
  },
  {
   "cell_type": "code",
   "execution_count": null,
   "metadata": {},
   "outputs": [],
   "source": [
    "df_train_test=pd.concat([df_train,df_test])"
   ]
  },
  {
   "cell_type": "code",
   "execution_count": null,
   "metadata": {},
   "outputs": [],
   "source": [
    "cols_to_normalize=df_train.select_dtypes(exclude = ['object']).columns.tolist()\n",
    "cols_to_normalize=[col for col in cols_to_normalize if col not in ['SK_ID_CURR','TARGET']]\n",
    "\n",
    "cols_to_encode=df_train.select_dtypes(include = ['object']).columns.tolist()\n",
    "\n",
    "\n",
    "\n"
   ]
  },
  {
   "cell_type": "code",
   "execution_count": null,
   "metadata": {},
   "outputs": [],
   "source": [
    "df=df_train_test[['SK_ID_CURR','TARGET']+cols_to_normalize].copy()\n",
    "values_to_normalize=df[cols_to_normalize].values\n",
    "standardScaler=StandardScaler()\n",
    "\n",
    "df[cols_to_normalize] = standardScaler.fit_transform(values_to_normalize)"
   ]
  },
  {
   "cell_type": "code",
   "execution_count": null,
   "metadata": {},
   "outputs": [],
   "source": [
    "oneHotEncoder = OneHotEncoder(sparse=False)\n",
    "\n",
    " \n",
    "data= oneHotEncoder.fit_transform(df_train_test[cols_to_encode])\n",
    "new_cols= oneHotEncoder.get_feature_names_out().tolist()\n",
    "df_hot= pd.DataFrame(columns =new_cols,\n",
    "              data =data)\n",
    "for col in new_cols:\n",
    "    df[col]=df_hot[col]\n"
   ]
  },
  {
   "cell_type": "code",
   "execution_count": null,
   "metadata": {},
   "outputs": [],
   "source": [
    "df.to_csv('data/normalized_data.csv',index=False)"
   ]
  },
  {
   "cell_type": "code",
   "execution_count": null,
   "metadata": {},
   "outputs": [],
   "source": [
    "regex='bureau_|previous_application|installments_payments|frequent-bureau|frequent-previous|frequent-pos_cash|frequent-credit_card|pos_cash_balance'\n",
    "REGEX_COLS=[x for x in \n",
    "           df.columns[df\\\n",
    "                                 .columns.str.contains(regex)]\n",
    "          ]\n",
    "REGEX_COLS\n",
    "RELEVANT_COLS=[col for col in df.columns.tolist() if col not in REGEX_COLS]\n",
    "RELEVANT_COLS"
   ]
  },
  {
   "cell_type": "code",
   "execution_count": null,
   "metadata": {},
   "outputs": [],
   "source": [
    "#df=df[RELEVANT_COLS]\n",
    "df"
   ]
  },
  {
   "cell_type": "code",
   "execution_count": null,
   "metadata": {},
   "outputs": [],
   "source": [
    "features = [col for col in df.columns.tolist() if col not in ['SK_ID_CURR','TARGET']]\n",
    "data=df[features].values\n",
    "pca=PCA(0.90)\n",
    "pca.fit(data)\n",
    "# Eboulis des valeurs propres\n",
    "utils2.display_scree_plot(pca)\n",
    "\n",
    "\n",
    "pca.explained_variance_ratio_.cumsum()"
   ]
  },
  {
   "cell_type": "code",
   "execution_count": null,
   "metadata": {},
   "outputs": [],
   "source": [
    "columns = ['pca_%i' % i for i in range(pca.n_components_)]\n",
    "df_pca = pd.DataFrame(pca.transform(data), columns=columns, index=df.index)\n",
    "\n",
    "df_pca['TARGET']=df['TARGET']\n",
    "df_pca.head()"
   ]
  },
  {
   "cell_type": "code",
   "execution_count": null,
   "metadata": {},
   "outputs": [],
   "source": [
    "df_pca.to_csv('data/df_pca.csv',index=False)"
   ]
  },
  {
   "cell_type": "code",
   "execution_count": null,
   "metadata": {},
   "outputs": [],
   "source": [
    "df_pca_train = df_pca[~pd.isna(df_pca['TARGET'])]\n"
   ]
  },
  {
   "cell_type": "code",
   "execution_count": null,
   "metadata": {},
   "outputs": [],
   "source": [
    "df_pca_train.shape"
   ]
  },
  {
   "cell_type": "code",
   "execution_count": null,
   "metadata": {},
   "outputs": [],
   "source": [
    "def evaluate_model(model, x_test, y_test):\n",
    "    from sklearn import metrics\n",
    "\n",
    "    # Predict Test Data \n",
    "    y_pred = model.predict(x_test)\n",
    "\n",
    "    # Calculate accuracy, precision, recall, f1-score, and kappa score\n",
    "    acc = metrics.accuracy_score(y_test, y_pred)\n",
    "    prec = metrics.precision_score(y_test, y_pred)\n",
    "    rec = metrics.recall_score(y_test, y_pred)\n",
    "    f1 = metrics.f1_score(y_test, y_pred)\n",
    "    kappa = metrics.cohen_kappa_score(y_test, y_pred)\n",
    "\n",
    "    # Calculate area under curve (AUC)\n",
    "    y_pred_proba = model.predict_proba(x_test)[::,1]\n",
    "    fpr, tpr, _ = metrics.roc_curve(y_test, y_pred_proba)\n",
    "    auc = metrics.roc_auc_score(y_test, y_pred_proba)\n",
    "\n",
    "    # Display confussion matrix\n",
    "    cm = metrics.confusion_matrix(y_test, y_pred)\n",
    "\n",
    "    return {'acc': acc, 'prec': prec, 'rec': rec, 'f1': f1, 'kappa': kappa, \n",
    "            'fpr': fpr, 'tpr': tpr, 'auc': auc, 'cm': cm}"
   ]
  },
  {
   "cell_type": "code",
   "execution_count": null,
   "metadata": {},
   "outputs": [],
   "source": [
    "# Set Training and Testing Data\n",
    "random_state=42\n",
    "from sklearn.model_selection import train_test_split\n",
    "feature = df_pca_train.drop('TARGET', axis=1)\n",
    "\n",
    "# Select Target\n",
    "target = df_pca_train['TARGET']\n",
    "\n",
    "\n",
    "X_train, X_test, y_train, y_test = train_test_split(feature , target, \n",
    "                                                    shuffle = True, \n",
    "                                                    test_size=0.2, \n",
    "                                                    stratify=target,\n",
    "                                                    random_state=random_state)"
   ]
  },
  {
   "cell_type": "code",
   "execution_count": null,
   "metadata": {},
   "outputs": [],
   "source": [
    "from sklearn import tree\n",
    "from sklearn.ensemble import RandomForestClassifier\n",
    "# Building Decision Tree model \n",
    "dtc = tree.(random_state=random_state)\n",
    "#dtc = RandomForestClassifier(random_state=random_state)\n",
    "\n",
    "dtc.fit(X_train, y_train)\n",
    "\n",
    "# Evaluate Model\n",
    "dtc_eval = evaluate_model(dtc, X_test, y_test)\n",
    "\n",
    "# Print result\n",
    "print('Accuracy:', dtc_eval['acc'])\n",
    "print('Precision:', dtc_eval['prec'])\n",
    "print('Recall:', dtc_eval['rec'])\n",
    "print('F1 Score:', dtc_eval['f1'])\n",
    "print('Cohens Kappa Score:', dtc_eval['kappa'])\n",
    "print('Area Under Curve:', dtc_eval['auc'])\n",
    "print('Confusion Matrix:\\n', dtc_eval['cm'])"
   ]
  }
 ],
 "metadata": {
  "kernelspec": {
   "display_name": "Python 3",
   "language": "python",
   "name": "python3"
  },
  "language_info": {
   "codemirror_mode": {
    "name": "ipython",
    "version": 3
   },
   "file_extension": ".py",
   "mimetype": "text/x-python",
   "name": "python",
   "nbconvert_exporter": "python",
   "pygments_lexer": "ipython3",
   "version": "3.7.6"
  }
 },
 "nbformat": 4,
 "nbformat_minor": 4
}
